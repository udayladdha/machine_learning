{
 "cells": [
  {
   "cell_type": "code",
   "execution_count": 1,
   "id": "04f06045",
   "metadata": {},
   "outputs": [],
   "source": [
    "import numpy as np\n",
    "import pandas as pd\n",
    "from sklearn.datasets import load_diabetes"
   ]
  },
  {
   "cell_type": "code",
   "execution_count": 2,
   "id": "a664ab4f",
   "metadata": {},
   "outputs": [],
   "source": [
    "from sklearn.linear_model import LinearRegression\n",
    "from sklearn.metrics import r2_score\n",
    "from sklearn.model_selection import train_test_split"
   ]
  },
  {
   "cell_type": "code",
   "execution_count": 3,
   "id": "0d00fec0",
   "metadata": {},
   "outputs": [],
   "source": [
    "x,y=load_diabetes(return_X_y=True)"
   ]
  },
  {
   "cell_type": "code",
   "execution_count": 4,
   "id": "9fbb1255",
   "metadata": {},
   "outputs": [],
   "source": [
    "x_train,x_test,y_train,y_test=train_test_split(x,y,test_size=0.2,random_state=10)"
   ]
  },
  {
   "cell_type": "code",
   "execution_count": 5,
   "id": "91b37f6f",
   "metadata": {},
   "outputs": [
    {
     "data": {
      "text/plain": [
       "array([[ 0.00538306, -0.04464164,  0.05954058, ...,  0.05091436,\n",
       "        -0.00422151, -0.03007245],\n",
       "       [-0.02730979, -0.04464164,  0.08001901, ...,  0.00331192,\n",
       "        -0.02952643,  0.03620126],\n",
       "       [ 0.0090156 , -0.04464164, -0.02452876, ..., -0.00259226,\n",
       "        -0.02139531,  0.00720652],\n",
       "       ...,\n",
       "       [-0.05273755,  0.05068012, -0.01806189, ...,  0.1081111 ,\n",
       "         0.03606033, -0.04249877],\n",
       "       [-0.00551455,  0.05068012, -0.00836158, ..., -0.00259226,\n",
       "         0.08059005,  0.00720652],\n",
       "       [-0.03457486,  0.05068012, -0.02560657, ..., -0.01550765,\n",
       "         0.01482098,  0.04034337]])"
      ]
     },
     "execution_count": 5,
     "metadata": {},
     "output_type": "execute_result"
    }
   ],
   "source": [
    "x_train"
   ]
  },
  {
   "cell_type": "code",
   "execution_count": 6,
   "id": "e42e0878",
   "metadata": {},
   "outputs": [
    {
     "data": {
      "text/plain": [
       "((353, 10), (89, 10), (353,), (89,))"
      ]
     },
     "execution_count": 6,
     "metadata": {},
     "output_type": "execute_result"
    }
   ],
   "source": [
    "x_train.shape,x_test.shape,y_train.shape,y_test.shape # 442 rows and (10+1) columns"
   ]
  },
  {
   "cell_type": "code",
   "execution_count": 7,
   "id": "7601358d",
   "metadata": {},
   "outputs": [],
   "source": [
    "lr=LinearRegression()"
   ]
  },
  {
   "cell_type": "code",
   "execution_count": 8,
   "id": "86ee6426",
   "metadata": {},
   "outputs": [
    {
     "data": {
      "text/plain": [
       "0.5341988244945843"
      ]
     },
     "execution_count": 8,
     "metadata": {},
     "output_type": "execute_result"
    }
   ],
   "source": [
    "lr.fit(x_train,y_train)\n",
    "y_pred=lr.predict(x_test)\n",
    "r2_score(y_test,y_pred)"
   ]
  },
  {
   "cell_type": "code",
   "execution_count": 9,
   "id": "4f8e8777",
   "metadata": {},
   "outputs": [
    {
     "data": {
      "text/plain": [
       "152.2555384904859"
      ]
     },
     "execution_count": 9,
     "metadata": {},
     "output_type": "execute_result"
    }
   ],
   "source": [
    "lr.intercept_   #. intercept value beta0"
   ]
  },
  {
   "cell_type": "code",
   "execution_count": 10,
   "id": "e1114c09",
   "metadata": {},
   "outputs": [
    {
     "data": {
      "text/plain": [
       "array([  -3.88733451, -225.62527795,  517.90438059,  328.31029449,\n",
       "       -727.20288812,  410.94784789,   80.2547038 ,  218.18152407,\n",
       "        704.26613704,   40.02330705])"
      ]
     },
     "execution_count": 10,
     "metadata": {},
     "output_type": "execute_result"
    }
   ],
   "source": [
    "lr.coef_ # 10 columns so 10 coeffecients  beta1-beta10"
   ]
  },
  {
   "cell_type": "code",
   "execution_count": 11,
   "id": "c7a5af0e",
   "metadata": {},
   "outputs": [
    {
     "data": {
      "text/plain": [
       "((353, 10), 10)"
      ]
     },
     "execution_count": 11,
     "metadata": {},
     "output_type": "execute_result"
    }
   ],
   "source": [
    "x_train.shape,x_train.shape[1]"
   ]
  },
  {
   "cell_type": "code",
   "execution_count": 12,
   "id": "22553a36",
   "metadata": {},
   "outputs": [],
   "source": [
    "class GDregressor:\n",
    "   \n",
    "\n",
    "    def __init__(self,learning_rate=0.01,epochs=100):\n",
    "        self.coef=None     # we dont know how many coef will be there as this is may has multiple columns\n",
    "        self.intercept=None\n",
    "        self.lr=learning_rate\n",
    "        self.epochs=epochs\n",
    "    \n",
    "    \n",
    "    def fit(self,x_train,y_train):\n",
    "        # initialize coef and intercept\n",
    "        self.intercept=0. # as we start with value of 0 of intercept \n",
    "        \n",
    "        # as we dont know how many columns are there so we use x_train to find number of columns\n",
    "        self.coef=np.ones(x_train.shape[1]) # we start with value 1 of coef so we used np.ones\n",
    "        \n",
    "        # updating values of coef and intercept\n",
    "        \n",
    "        for i in range(self.epochs):\n",
    "            \n",
    "            \n",
    "            # updating intercept\n",
    "            \n",
    "            y_hat= np.dot(x_train,self.coef) + self.intercept\n",
    "            \n",
    "            intercept_der = -2 * np.mean(y_train-y_hat)\n",
    "            \n",
    "            self.intercept=self.intercept - (self.lr * intercept_der)  # intercept_der = loss_slope_b\n",
    "            \n",
    "            \n",
    "            \n",
    "            # updating coef\n",
    "            \n",
    "            coef_der = -2 * np.dot((y_train-y_hat),x_train)/x_train.shape[0]\n",
    "            \n",
    "            self.coef=self.coef - (self.lr * coef_der)                 # coef_der=loss_slope_m\n",
    "        \n",
    "        \n",
    "        print(\"intercept:\",self.intercept,\"coef\",self.coef)\n",
    "    \n",
    "    \n",
    "    def predict(self,x_test):\n",
    "        return np.dot(x_test,self.coef) + self.intercept  #  y=mx+b\n",
    "        \n"
   ]
  },
  {
   "cell_type": "code",
   "execution_count": 13,
   "id": "b933b9b9",
   "metadata": {},
   "outputs": [],
   "source": [
    "gdr=GDregressor(epochs=1000,learning_rate=0.5)"
   ]
  },
  {
   "cell_type": "code",
   "execution_count": 14,
   "id": "e1493dc9",
   "metadata": {},
   "outputs": [
    {
     "name": "stdout",
     "output_type": "stream",
     "text": [
      "intercept: 152.06445047682317 coef [  17.03034296 -182.02825596  479.80706585  302.52707183  -37.48585206\n",
      "  -98.9228287  -212.34819957  143.1467749   388.20540266   93.4142955 ]\n"
     ]
    }
   ],
   "source": [
    "gdr.fit(x_train,y_train)"
   ]
  },
  {
   "cell_type": "code",
   "execution_count": 15,
   "id": "fad194ed",
   "metadata": {},
   "outputs": [
    {
     "data": {
      "text/plain": [
       "array([  -3.88733451, -225.62527795,  517.90438059,  328.31029449,\n",
       "       -727.20288812,  410.94784789,   80.2547038 ,  218.18152407,\n",
       "        704.26613704,   40.02330705])"
      ]
     },
     "execution_count": 15,
     "metadata": {},
     "output_type": "execute_result"
    }
   ],
   "source": [
    "lr.coef_"
   ]
  },
  {
   "cell_type": "code",
   "execution_count": 16,
   "id": "9b7a2086",
   "metadata": {},
   "outputs": [
    {
     "data": {
      "text/plain": [
       "152.2555384904859"
      ]
     },
     "execution_count": 16,
     "metadata": {},
     "output_type": "execute_result"
    }
   ],
   "source": [
    "lr.intercept_"
   ]
  },
  {
   "cell_type": "code",
   "execution_count": 17,
   "id": "47a561ea",
   "metadata": {},
   "outputs": [],
   "source": [
    "y_pred=gdr.predict(x_test)"
   ]
  },
  {
   "cell_type": "code",
   "execution_count": 18,
   "id": "7d803a38",
   "metadata": {},
   "outputs": [
    {
     "data": {
      "text/plain": [
       "0.5212482632291215"
      ]
     },
     "execution_count": 18,
     "metadata": {},
     "output_type": "execute_result"
    }
   ],
   "source": [
    "r2_score(y_test,y_pred)"
   ]
  },
  {
   "cell_type": "code",
   "execution_count": null,
   "id": "a0ccace1",
   "metadata": {},
   "outputs": [],
   "source": []
  }
 ],
 "metadata": {
  "kernelspec": {
   "display_name": "Python 3 (ipykernel)",
   "language": "python",
   "name": "python3"
  },
  "language_info": {
   "codemirror_mode": {
    "name": "ipython",
    "version": 3
   },
   "file_extension": ".py",
   "mimetype": "text/x-python",
   "name": "python",
   "nbconvert_exporter": "python",
   "pygments_lexer": "ipython3",
   "version": "3.10.9"
  }
 },
 "nbformat": 4,
 "nbformat_minor": 5
}
