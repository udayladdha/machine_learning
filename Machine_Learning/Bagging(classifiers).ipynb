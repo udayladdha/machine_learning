{
 "cells": [
  {
   "cell_type": "markdown",
   "id": "e9b66869",
   "metadata": {},
   "source": [
    "# Bagging: Bootstrap aggregation is an ensemble learning technique used for both classifcation and regression problem"
   ]
  },
  {
   "cell_type": "markdown",
   "id": "f9ee45aa",
   "metadata": {},
   "source": [
    "# The main motive of bagging is to reduce the variance of model and giving resultig model as low bias low variance"
   ]
  },
  {
   "cell_type": "markdown",
   "id": "628a57da",
   "metadata": {},
   "source": [
    "# 1.Bagging(classification)"
   ]
  },
  {
   "cell_type": "code",
   "execution_count": 1,
   "id": "3cbe7511",
   "metadata": {},
   "outputs": [],
   "source": [
    "import pandas as pd\n",
    "import numpy as np"
   ]
  },
  {
   "cell_type": "code",
   "execution_count": 2,
   "id": "074ce024",
   "metadata": {},
   "outputs": [
    {
     "data": {
      "text/html": [
       "<div>\n",
       "<style scoped>\n",
       "    .dataframe tbody tr th:only-of-type {\n",
       "        vertical-align: middle;\n",
       "    }\n",
       "\n",
       "    .dataframe tbody tr th {\n",
       "        vertical-align: top;\n",
       "    }\n",
       "\n",
       "    .dataframe thead th {\n",
       "        text-align: right;\n",
       "    }\n",
       "</style>\n",
       "<table border=\"1\" class=\"dataframe\">\n",
       "  <thead>\n",
       "    <tr style=\"text-align: right;\">\n",
       "      <th></th>\n",
       "      <th>Id</th>\n",
       "      <th>Sepal Length (cm)</th>\n",
       "      <th>Sepal Width (cm)</th>\n",
       "      <th>Petal Length (cm)</th>\n",
       "      <th>Petal Width (cm)</th>\n",
       "      <th>Species</th>\n",
       "    </tr>\n",
       "  </thead>\n",
       "  <tbody>\n",
       "    <tr>\n",
       "      <th>0</th>\n",
       "      <td>1</td>\n",
       "      <td>5.1</td>\n",
       "      <td>3.5</td>\n",
       "      <td>1.4</td>\n",
       "      <td>0.2</td>\n",
       "      <td>Iris-setosa</td>\n",
       "    </tr>\n",
       "    <tr>\n",
       "      <th>1</th>\n",
       "      <td>2</td>\n",
       "      <td>4.9</td>\n",
       "      <td>3.0</td>\n",
       "      <td>1.4</td>\n",
       "      <td>0.2</td>\n",
       "      <td>Iris-setosa</td>\n",
       "    </tr>\n",
       "    <tr>\n",
       "      <th>2</th>\n",
       "      <td>3</td>\n",
       "      <td>4.7</td>\n",
       "      <td>3.2</td>\n",
       "      <td>1.3</td>\n",
       "      <td>0.2</td>\n",
       "      <td>Iris-setosa</td>\n",
       "    </tr>\n",
       "    <tr>\n",
       "      <th>3</th>\n",
       "      <td>4</td>\n",
       "      <td>4.6</td>\n",
       "      <td>3.1</td>\n",
       "      <td>1.5</td>\n",
       "      <td>0.2</td>\n",
       "      <td>Iris-setosa</td>\n",
       "    </tr>\n",
       "    <tr>\n",
       "      <th>4</th>\n",
       "      <td>5</td>\n",
       "      <td>5.0</td>\n",
       "      <td>3.6</td>\n",
       "      <td>1.4</td>\n",
       "      <td>0.2</td>\n",
       "      <td>Iris-setosa</td>\n",
       "    </tr>\n",
       "  </tbody>\n",
       "</table>\n",
       "</div>"
      ],
      "text/plain": [
       "   Id  Sepal Length (cm)  Sepal Width (cm)  Petal Length (cm)  \\\n",
       "0   1                5.1               3.5                1.4   \n",
       "1   2                4.9               3.0                1.4   \n",
       "2   3                4.7               3.2                1.3   \n",
       "3   4                4.6               3.1                1.5   \n",
       "4   5                5.0               3.6                1.4   \n",
       "\n",
       "   Petal Width (cm)      Species  \n",
       "0               0.2  Iris-setosa  \n",
       "1               0.2  Iris-setosa  \n",
       "2               0.2  Iris-setosa  \n",
       "3               0.2  Iris-setosa  \n",
       "4               0.2  Iris-setosa  "
      ]
     },
     "execution_count": 2,
     "metadata": {},
     "output_type": "execute_result"
    }
   ],
   "source": [
    "df=pd.read_csv(\"//Users//udayladdha//Desktop//Data science//DataSets//iris.csv\")\n",
    "df.head()"
   ]
  },
  {
   "cell_type": "code",
   "execution_count": 3,
   "id": "28dc73c8",
   "metadata": {},
   "outputs": [],
   "source": [
    "df=df.iloc[:,1:] # dropped id column"
   ]
  },
  {
   "cell_type": "code",
   "execution_count": 4,
   "id": "890e050a",
   "metadata": {},
   "outputs": [
    {
     "data": {
      "text/html": [
       "<div>\n",
       "<style scoped>\n",
       "    .dataframe tbody tr th:only-of-type {\n",
       "        vertical-align: middle;\n",
       "    }\n",
       "\n",
       "    .dataframe tbody tr th {\n",
       "        vertical-align: top;\n",
       "    }\n",
       "\n",
       "    .dataframe thead th {\n",
       "        text-align: right;\n",
       "    }\n",
       "</style>\n",
       "<table border=\"1\" class=\"dataframe\">\n",
       "  <thead>\n",
       "    <tr style=\"text-align: right;\">\n",
       "      <th></th>\n",
       "      <th>Sepal Length (cm)</th>\n",
       "      <th>Sepal Width (cm)</th>\n",
       "      <th>Petal Length (cm)</th>\n",
       "      <th>Petal Width (cm)</th>\n",
       "      <th>Species</th>\n",
       "    </tr>\n",
       "  </thead>\n",
       "  <tbody>\n",
       "    <tr>\n",
       "      <th>0</th>\n",
       "      <td>5.1</td>\n",
       "      <td>3.5</td>\n",
       "      <td>1.4</td>\n",
       "      <td>0.2</td>\n",
       "      <td>Iris-setosa</td>\n",
       "    </tr>\n",
       "    <tr>\n",
       "      <th>1</th>\n",
       "      <td>4.9</td>\n",
       "      <td>3.0</td>\n",
       "      <td>1.4</td>\n",
       "      <td>0.2</td>\n",
       "      <td>Iris-setosa</td>\n",
       "    </tr>\n",
       "    <tr>\n",
       "      <th>2</th>\n",
       "      <td>4.7</td>\n",
       "      <td>3.2</td>\n",
       "      <td>1.3</td>\n",
       "      <td>0.2</td>\n",
       "      <td>Iris-setosa</td>\n",
       "    </tr>\n",
       "    <tr>\n",
       "      <th>3</th>\n",
       "      <td>4.6</td>\n",
       "      <td>3.1</td>\n",
       "      <td>1.5</td>\n",
       "      <td>0.2</td>\n",
       "      <td>Iris-setosa</td>\n",
       "    </tr>\n",
       "    <tr>\n",
       "      <th>4</th>\n",
       "      <td>5.0</td>\n",
       "      <td>3.6</td>\n",
       "      <td>1.4</td>\n",
       "      <td>0.2</td>\n",
       "      <td>Iris-setosa</td>\n",
       "    </tr>\n",
       "    <tr>\n",
       "      <th>...</th>\n",
       "      <td>...</td>\n",
       "      <td>...</td>\n",
       "      <td>...</td>\n",
       "      <td>...</td>\n",
       "      <td>...</td>\n",
       "    </tr>\n",
       "    <tr>\n",
       "      <th>145</th>\n",
       "      <td>6.7</td>\n",
       "      <td>3.0</td>\n",
       "      <td>5.2</td>\n",
       "      <td>2.3</td>\n",
       "      <td>Iris-virginica</td>\n",
       "    </tr>\n",
       "    <tr>\n",
       "      <th>146</th>\n",
       "      <td>6.3</td>\n",
       "      <td>2.5</td>\n",
       "      <td>5.0</td>\n",
       "      <td>1.9</td>\n",
       "      <td>Iris-virginica</td>\n",
       "    </tr>\n",
       "    <tr>\n",
       "      <th>147</th>\n",
       "      <td>6.5</td>\n",
       "      <td>3.0</td>\n",
       "      <td>5.2</td>\n",
       "      <td>2.0</td>\n",
       "      <td>Iris-virginica</td>\n",
       "    </tr>\n",
       "    <tr>\n",
       "      <th>148</th>\n",
       "      <td>6.2</td>\n",
       "      <td>3.4</td>\n",
       "      <td>5.4</td>\n",
       "      <td>2.3</td>\n",
       "      <td>Iris-virginica</td>\n",
       "    </tr>\n",
       "    <tr>\n",
       "      <th>149</th>\n",
       "      <td>5.9</td>\n",
       "      <td>3.0</td>\n",
       "      <td>5.1</td>\n",
       "      <td>1.8</td>\n",
       "      <td>Iris-virginica</td>\n",
       "    </tr>\n",
       "  </tbody>\n",
       "</table>\n",
       "<p>150 rows × 5 columns</p>\n",
       "</div>"
      ],
      "text/plain": [
       "     Sepal Length (cm)  Sepal Width (cm)  Petal Length (cm)  Petal Width (cm)  \\\n",
       "0                  5.1               3.5                1.4               0.2   \n",
       "1                  4.9               3.0                1.4               0.2   \n",
       "2                  4.7               3.2                1.3               0.2   \n",
       "3                  4.6               3.1                1.5               0.2   \n",
       "4                  5.0               3.6                1.4               0.2   \n",
       "..                 ...               ...                ...               ...   \n",
       "145                6.7               3.0                5.2               2.3   \n",
       "146                6.3               2.5                5.0               1.9   \n",
       "147                6.5               3.0                5.2               2.0   \n",
       "148                6.2               3.4                5.4               2.3   \n",
       "149                5.9               3.0                5.1               1.8   \n",
       "\n",
       "            Species  \n",
       "0       Iris-setosa  \n",
       "1       Iris-setosa  \n",
       "2       Iris-setosa  \n",
       "3       Iris-setosa  \n",
       "4       Iris-setosa  \n",
       "..              ...  \n",
       "145  Iris-virginica  \n",
       "146  Iris-virginica  \n",
       "147  Iris-virginica  \n",
       "148  Iris-virginica  \n",
       "149  Iris-virginica  \n",
       "\n",
       "[150 rows x 5 columns]"
      ]
     },
     "execution_count": 4,
     "metadata": {},
     "output_type": "execute_result"
    }
   ],
   "source": [
    "df"
   ]
  },
  {
   "cell_type": "code",
   "execution_count": 5,
   "id": "66a31838",
   "metadata": {},
   "outputs": [],
   "source": [
    "from sklearn.preprocessing import LabelEncoder"
   ]
  },
  {
   "cell_type": "code",
   "execution_count": 6,
   "id": "9a5ae3ce",
   "metadata": {},
   "outputs": [],
   "source": [
    "lb=LabelEncoder()"
   ]
  },
  {
   "cell_type": "code",
   "execution_count": 7,
   "id": "a722fe71",
   "metadata": {},
   "outputs": [],
   "source": [
    "df[\"Species\"]=lb.fit_transform(df[\"Species\"])"
   ]
  },
  {
   "cell_type": "code",
   "execution_count": 8,
   "id": "25d4d076",
   "metadata": {},
   "outputs": [
    {
     "data": {
      "text/html": [
       "<div>\n",
       "<style scoped>\n",
       "    .dataframe tbody tr th:only-of-type {\n",
       "        vertical-align: middle;\n",
       "    }\n",
       "\n",
       "    .dataframe tbody tr th {\n",
       "        vertical-align: top;\n",
       "    }\n",
       "\n",
       "    .dataframe thead th {\n",
       "        text-align: right;\n",
       "    }\n",
       "</style>\n",
       "<table border=\"1\" class=\"dataframe\">\n",
       "  <thead>\n",
       "    <tr style=\"text-align: right;\">\n",
       "      <th></th>\n",
       "      <th>Sepal Length (cm)</th>\n",
       "      <th>Sepal Width (cm)</th>\n",
       "      <th>Petal Length (cm)</th>\n",
       "      <th>Petal Width (cm)</th>\n",
       "      <th>Species</th>\n",
       "    </tr>\n",
       "  </thead>\n",
       "  <tbody>\n",
       "    <tr>\n",
       "      <th>0</th>\n",
       "      <td>5.1</td>\n",
       "      <td>3.5</td>\n",
       "      <td>1.4</td>\n",
       "      <td>0.2</td>\n",
       "      <td>0</td>\n",
       "    </tr>\n",
       "    <tr>\n",
       "      <th>1</th>\n",
       "      <td>4.9</td>\n",
       "      <td>3.0</td>\n",
       "      <td>1.4</td>\n",
       "      <td>0.2</td>\n",
       "      <td>0</td>\n",
       "    </tr>\n",
       "    <tr>\n",
       "      <th>2</th>\n",
       "      <td>4.7</td>\n",
       "      <td>3.2</td>\n",
       "      <td>1.3</td>\n",
       "      <td>0.2</td>\n",
       "      <td>0</td>\n",
       "    </tr>\n",
       "    <tr>\n",
       "      <th>3</th>\n",
       "      <td>4.6</td>\n",
       "      <td>3.1</td>\n",
       "      <td>1.5</td>\n",
       "      <td>0.2</td>\n",
       "      <td>0</td>\n",
       "    </tr>\n",
       "    <tr>\n",
       "      <th>4</th>\n",
       "      <td>5.0</td>\n",
       "      <td>3.6</td>\n",
       "      <td>1.4</td>\n",
       "      <td>0.2</td>\n",
       "      <td>0</td>\n",
       "    </tr>\n",
       "  </tbody>\n",
       "</table>\n",
       "</div>"
      ],
      "text/plain": [
       "   Sepal Length (cm)  Sepal Width (cm)  Petal Length (cm)  Petal Width (cm)  \\\n",
       "0                5.1               3.5                1.4               0.2   \n",
       "1                4.9               3.0                1.4               0.2   \n",
       "2                4.7               3.2                1.3               0.2   \n",
       "3                4.6               3.1                1.5               0.2   \n",
       "4                5.0               3.6                1.4               0.2   \n",
       "\n",
       "   Species  \n",
       "0        0  \n",
       "1        0  \n",
       "2        0  \n",
       "3        0  \n",
       "4        0  "
      ]
     },
     "execution_count": 8,
     "metadata": {},
     "output_type": "execute_result"
    }
   ],
   "source": [
    "df.head()"
   ]
  },
  {
   "cell_type": "code",
   "execution_count": 9,
   "id": "c9a1d410",
   "metadata": {},
   "outputs": [],
   "source": [
    "df=df[df[\"Species\"]!=0][[\"Sepal Width (cm)\",\"Petal Length (cm)\",\"Species\"]]"
   ]
  },
  {
   "cell_type": "code",
   "execution_count": 10,
   "id": "81b4eb9f",
   "metadata": {},
   "outputs": [
    {
     "data": {
      "text/html": [
       "<div>\n",
       "<style scoped>\n",
       "    .dataframe tbody tr th:only-of-type {\n",
       "        vertical-align: middle;\n",
       "    }\n",
       "\n",
       "    .dataframe tbody tr th {\n",
       "        vertical-align: top;\n",
       "    }\n",
       "\n",
       "    .dataframe thead th {\n",
       "        text-align: right;\n",
       "    }\n",
       "</style>\n",
       "<table border=\"1\" class=\"dataframe\">\n",
       "  <thead>\n",
       "    <tr style=\"text-align: right;\">\n",
       "      <th></th>\n",
       "      <th>Sepal Width (cm)</th>\n",
       "      <th>Petal Length (cm)</th>\n",
       "      <th>Species</th>\n",
       "    </tr>\n",
       "  </thead>\n",
       "  <tbody>\n",
       "    <tr>\n",
       "      <th>50</th>\n",
       "      <td>3.2</td>\n",
       "      <td>4.7</td>\n",
       "      <td>1</td>\n",
       "    </tr>\n",
       "    <tr>\n",
       "      <th>51</th>\n",
       "      <td>3.2</td>\n",
       "      <td>4.5</td>\n",
       "      <td>1</td>\n",
       "    </tr>\n",
       "    <tr>\n",
       "      <th>52</th>\n",
       "      <td>3.1</td>\n",
       "      <td>4.9</td>\n",
       "      <td>1</td>\n",
       "    </tr>\n",
       "    <tr>\n",
       "      <th>53</th>\n",
       "      <td>2.3</td>\n",
       "      <td>4.0</td>\n",
       "      <td>1</td>\n",
       "    </tr>\n",
       "    <tr>\n",
       "      <th>54</th>\n",
       "      <td>2.8</td>\n",
       "      <td>4.6</td>\n",
       "      <td>1</td>\n",
       "    </tr>\n",
       "  </tbody>\n",
       "</table>\n",
       "</div>"
      ],
      "text/plain": [
       "    Sepal Width (cm)  Petal Length (cm)  Species\n",
       "50               3.2                4.7        1\n",
       "51               3.2                4.5        1\n",
       "52               3.1                4.9        1\n",
       "53               2.3                4.0        1\n",
       "54               2.8                4.6        1"
      ]
     },
     "execution_count": 10,
     "metadata": {},
     "output_type": "execute_result"
    }
   ],
   "source": [
    "df.head()"
   ]
  },
  {
   "cell_type": "code",
   "execution_count": 11,
   "id": "0498980d",
   "metadata": {},
   "outputs": [
    {
     "data": {
      "text/plain": [
       "(100, 3)"
      ]
     },
     "execution_count": 11,
     "metadata": {},
     "output_type": "execute_result"
    }
   ],
   "source": [
    "df.shape"
   ]
  },
  {
   "cell_type": "code",
   "execution_count": 12,
   "id": "9025007d",
   "metadata": {},
   "outputs": [],
   "source": [
    "import seaborn as sns\n",
    "import matplotlib.pyplot as plt"
   ]
  },
  {
   "cell_type": "code",
   "execution_count": 13,
   "id": "f58ced8c",
   "metadata": {},
   "outputs": [
    {
     "data": {
      "text/plain": [
       "<matplotlib.collections.PathCollection at 0x1233c1ff0>"
      ]
     },
     "execution_count": 13,
     "metadata": {},
     "output_type": "execute_result"
    },
    {
     "data": {
      "image/png": "[encoded data removed]",
      "text/plain": [
       "<Figure size 640x480 with 1 Axes>"
      ]
     },
     "metadata": {},
     "output_type": "display_data"
    }
   ],
   "source": [
    "plt.scatter(df[\"Sepal Width (cm)\"],df[\"Petal Length (cm)\"],c=df[\"Species\"],cmap=\"winter\")"
   ]
  },
  {
   "cell_type": "code",
   "execution_count": 14,
   "id": "66aee78a",
   "metadata": {},
   "outputs": [],
   "source": [
    "x=df.iloc[:,:2]"
   ]
  },
  {
   "cell_type": "code",
   "execution_count": 15,
   "id": "bc3b4f84",
   "metadata": {},
   "outputs": [],
   "source": [
    "y=df.iloc[:,2]"
   ]
  },
  {
   "cell_type": "code",
   "execution_count": 16,
   "id": "fc4698d0",
   "metadata": {},
   "outputs": [],
   "source": [
    "from sklearn.model_selection import train_test_split"
   ]
  },
  {
   "cell_type": "code",
   "execution_count": 17,
   "id": "b755a822",
   "metadata": {},
   "outputs": [],
   "source": [
    "x_train,x_test,y_train,y_test=train_test_split(x,y,test_size=0.2,random_state=21)"
   ]
  },
  {
   "cell_type": "code",
   "execution_count": 18,
   "id": "7d85ab90",
   "metadata": {},
   "outputs": [],
   "source": [
    "from sklearn.ensemble import BaggingClassifier"
   ]
  },
  {
   "cell_type": "code",
   "execution_count": 19,
   "id": "371a046c",
   "metadata": {},
   "outputs": [],
   "source": [
    "from sklearn.metrics import accuracy_score"
   ]
  },
  {
   "cell_type": "code",
   "execution_count": 20,
   "id": "92790d17",
   "metadata": {},
   "outputs": [],
   "source": [
    "# creating bagging classifer \n",
    "bagging_model=BaggingClassifier(estimator=None,n_estimators=10,random_state=42) # here if we use estimator as none it will automatically use decesion tree as base model"
   ]
  },
  {
   "cell_type": "code",
   "execution_count": 21,
   "id": "ebe186df",
   "metadata": {},
   "outputs": [
    {
     "name": "stdout",
     "output_type": "stream",
     "text": [
      "accuracy: 90.0 %\n"
     ]
    }
   ],
   "source": [
    "bagging_model.fit(x_train,y_train)                    # training bagging classifier\n",
    "y_pred=bagging_model.predict(x_test)                  # predicting using bagginf classifier\n",
    "print(\"accuracy:\",(accuracy_score(y_test,y_pred))*100,\"%\")      # evaluating model using test data"
   ]
  },
  {
   "cell_type": "markdown",
   "id": "3fed9ac1",
   "metadata": {},
   "source": [
    "# in bagging there are multiple ways to samle our subset of data to  give to base model like:\n",
    "    pasting - we use row sampling without replacement\n",
    "    random subspaces- we do column sampling \n",
    "    random patches - we do both \n",
    "    and to apply these we have different parameters in bagging classifier"
   ]
  },
  {
   "cell_type": "markdown",
   "id": "919dece4",
   "metadata": {},
   "source": [
    "# Bagging on different data "
   ]
  },
  {
   "cell_type": "code",
   "execution_count": 22,
   "id": "10cb7f7d",
   "metadata": {},
   "outputs": [],
   "source": [
    "from sklearn.ensemble import BaggingClassifier\n",
    "from sklearn.model_selection import train_test_split\n",
    "from sklearn.svm import SVC\n",
    "from sklearn.tree import DecisionTreeClassifier\n",
    "from sklearn.datasets import make_classification"
   ]
  },
  {
   "cell_type": "code",
   "execution_count": 23,
   "id": "4c6f769f",
   "metadata": {},
   "outputs": [],
   "source": [
    "x,y=make_classification(n_samples=10000,n_features=10,n_informative=3)"
   ]
  },
  {
   "cell_type": "code",
   "execution_count": 24,
   "id": "91dfd847",
   "metadata": {},
   "outputs": [],
   "source": [
    "x_train,x_test,y_train,y_test=train_test_split(x,y,test_size=0.2,random_state=21)"
   ]
  },
  {
   "cell_type": "code",
   "execution_count": 25,
   "id": "4ee5b657",
   "metadata": {},
   "outputs": [
    {
     "data": {
      "text/plain": [
       "(8000, 10)"
      ]
     },
     "execution_count": 25,
     "metadata": {},
     "output_type": "execute_result"
    }
   ],
   "source": [
    "x_train.shape"
   ]
  },
  {
   "cell_type": "code",
   "execution_count": 26,
   "id": "aaf1df9f",
   "metadata": {},
   "outputs": [
    {
     "name": "stdout",
     "output_type": "stream",
     "text": [
      "accuracy using decesion tree 92.2 %\n"
     ]
    }
   ],
   "source": [
    "# evaluting model using only decesion tree\n",
    "dt=DecisionTreeClassifier(random_state=21)\n",
    "dt.fit(x_train,y_train)\n",
    "y_pred=dt.predict(x_test)\n",
    "print(\"accuracy using decesion tree\",accuracy_score(y_test,y_pred)*100,\"%\")"
   ]
  },
  {
   "cell_type": "code",
   "execution_count": 27,
   "id": "92d78440",
   "metadata": {},
   "outputs": [],
   "source": [
    "# evaluationg using bagging\n",
    "bagging_model=BaggingClassifier(estimator=DecisionTreeClassifier(), # base model\n",
    "                               n_estimators=500,\n",
    "                               max_samples=0.25,# traning data is 8000 rows so we are giving 2000 rows to each base model\n",
    "                               bootstrap=True,  # row sampling with replacement \n",
    "                               random_state=42)"
   ]
  },
  {
   "cell_type": "code",
   "execution_count": 28,
   "id": "ee0b0f15",
   "metadata": {},
   "outputs": [
    {
     "data": {
      "text/html": [
       "<style>#sk-container-id-1 {color: black;background-color: white;}#sk-container-id-1 pre{padding: 0;}#sk-container-id-1 div.sk-toggleable {background-color: white;}#sk-container-id-1 label.sk-toggleable__label {cursor: pointer;display: block;width: 100%;margin-bottom: 0;padding: 0.3em;box-sizing: border-box;text-align: center;}#sk-container-id-1 label.sk-toggleable__label-arrow:before {content: \"▸\";float: left;margin-right: 0.25em;color: #696969;}#sk-container-id-1 label.sk-toggleable__label-arrow:hover:before {color: black;}#sk-container-id-1 div.sk-estimator:hover label.sk-toggleable__label-arrow:before {color: black;}#sk-container-id-1 div.sk-toggleable__content {max-height: 0;max-width: 0;overflow: hidden;text-align: left;background-color: #f0f8ff;}#sk-container-id-1 div.sk-toggleable__content pre {margin: 0.2em;color: black;border-radius: 0.25em;background-color: #f0f8ff;}#sk-container-id-1 input.sk-toggleable__control:checked~div.sk-toggleable__content {max-height: 200px;max-width: 100%;overflow: auto;}#sk-container-id-1 input.sk-toggleable__control:checked~label.sk-toggleable__label-arrow:before {content: \"▾\";}#sk-container-id-1 div.sk-estimator input.sk-toggleable__control:checked~label.sk-toggleable__label {background-color: #d4ebff;}#sk-container-id-1 div.sk-label input.sk-toggleable__control:checked~label.sk-toggleable__label {background-color: #d4ebff;}#sk-container-id-1 input.sk-hidden--visually {border: 0;clip: rect(1px 1px 1px 1px);clip: rect(1px, 1px, 1px, 1px);height: 1px;margin: -1px;overflow: hidden;padding: 0;position: absolute;width: 1px;}#sk-container-id-1 div.sk-estimator {font-family: monospace;background-color: #f0f8ff;border: 1px dotted black;border-radius: 0.25em;box-sizing: border-box;margin-bottom: 0.5em;}#sk-container-id-1 div.sk-estimator:hover {background-color: #d4ebff;}#sk-container-id-1 div.sk-parallel-item::after {content: \"\";width: 100%;border-bottom: 1px solid gray;flex-grow: 1;}#sk-container-id-1 div.sk-label:hover label.sk-toggleable__label {background-color: #d4ebff;}#sk-container-id-1 div.sk-serial::before {content: \"\";position: absolute;border-left: 1px solid gray;box-sizing: border-box;top: 0;bottom: 0;left: 50%;z-index: 0;}#sk-container-id-1 div.sk-serial {display: flex;flex-direction: column;align-items: center;background-color: white;padding-right: 0.2em;padding-left: 0.2em;position: relative;}#sk-container-id-1 div.sk-item {position: relative;z-index: 1;}#sk-container-id-1 div.sk-parallel {display: flex;align-items: stretch;justify-content: center;background-color: white;position: relative;}#sk-container-id-1 div.sk-item::before, #sk-container-id-1 div.sk-parallel-item::before {content: \"\";position: absolute;border-left: 1px solid gray;box-sizing: border-box;top: 0;bottom: 0;left: 50%;z-index: -1;}#sk-container-id-1 div.sk-parallel-item {display: flex;flex-direction: column;z-index: 1;position: relative;background-color: white;}#sk-container-id-1 div.sk-parallel-item:first-child::after {align-self: flex-end;width: 50%;}#sk-container-id-1 div.sk-parallel-item:last-child::after {align-self: flex-start;width: 50%;}#sk-container-id-1 div.sk-parallel-item:only-child::after {width: 0;}#sk-container-id-1 div.sk-dashed-wrapped {border: 1px dashed gray;margin: 0 0.4em 0.5em 0.4em;box-sizing: border-box;padding-bottom: 0.4em;background-color: white;}#sk-container-id-1 div.sk-label label {font-family: monospace;font-weight: bold;display: inline-block;line-height: 1.2em;}#sk-container-id-1 div.sk-label-container {text-align: center;}#sk-container-id-1 div.sk-container {/* jupyter's `normalize.less` sets `[hidden] { display: none; }` but bootstrap.min.css set `[hidden] { display: none !important; }` so we also need the `!important` here to be able to override the default hidden behavior on the sphinx rendered scikit-learn.org. See: https://github.com/scikit-learn/scikit-learn/issues/21755 */display: inline-block !important;position: relative;}#sk-container-id-1 div.sk-text-repr-fallback {display: none;}</style><div id=\"sk-container-id-1\" class=\"sk-top-container\"><div class=\"sk-text-repr-fallback\"><pre>BaggingClassifier(estimator=DecisionTreeClassifier(), max_samples=0.25,\n",
       "                  n_estimators=500, random_state=42)</pre><b>In a Jupyter environment, please rerun this cell to show the HTML representation or trust the notebook. <br />On GitHub, the HTML representation is unable to render, please try loading this page with nbviewer.org.</b></div><div class=\"sk-container\" hidden><div class=\"sk-item sk-dashed-wrapped\"><div class=\"sk-label-container\"><div class=\"sk-label sk-toggleable\"><input class=\"sk-toggleable__control sk-hidden--visually\" id=\"sk-estimator-id-1\" type=\"checkbox\" ><label for=\"sk-estimator-id-1\" class=\"sk-toggleable__label sk-toggleable__label-arrow\">BaggingClassifier</label><div class=\"sk-toggleable__content\"><pre>BaggingClassifier(estimator=DecisionTreeClassifier(), max_samples=0.25,\n",
       "                  n_estimators=500, random_state=42)</pre></div></div></div><div class=\"sk-parallel\"><div class=\"sk-parallel-item\"><div class=\"sk-item\"><div class=\"sk-label-container\"><div class=\"sk-label sk-toggleable\"><input class=\"sk-toggleable__control sk-hidden--visually\" id=\"sk-estimator-id-2\" type=\"checkbox\" ><label for=\"sk-estimator-id-2\" class=\"sk-toggleable__label sk-toggleable__label-arrow\">estimator: DecisionTreeClassifier</label><div class=\"sk-toggleable__content\"><pre>DecisionTreeClassifier()</pre></div></div></div><div class=\"sk-serial\"><div class=\"sk-item\"><div class=\"sk-estimator sk-toggleable\"><input class=\"sk-toggleable__control sk-hidden--visually\" id=\"sk-estimator-id-3\" type=\"checkbox\" ><label for=\"sk-estimator-id-3\" class=\"sk-toggleable__label sk-toggleable__label-arrow\">DecisionTreeClassifier</label><div class=\"sk-toggleable__content\"><pre>DecisionTreeClassifier()</pre></div></div></div></div></div></div></div></div></div></div>"
      ],
      "text/plain": [
       "BaggingClassifier(estimator=DecisionTreeClassifier(), max_samples=0.25,\n",
       "                  n_estimators=500, random_state=42)"
      ]
     },
     "execution_count": 28,
     "metadata": {},
     "output_type": "execute_result"
    }
   ],
   "source": [
    "bagging_model.fit(x_train,y_train)"
   ]
  },
  {
   "cell_type": "code",
   "execution_count": 29,
   "id": "f349ac4d",
   "metadata": {},
   "outputs": [],
   "source": [
    "y_pred=bagging_model.predict(x_test)"
   ]
  },
  {
   "cell_type": "code",
   "execution_count": 30,
   "id": "2b66883b",
   "metadata": {},
   "outputs": [
    {
     "name": "stdout",
     "output_type": "stream",
     "text": [
      "accuracy score using bagging 94.75 %\n"
     ]
    }
   ],
   "source": [
    "print(\"accuracy score using bagging\",accuracy_score(y_test,y_pred)*100,\"%\")"
   ]
  },
  {
   "cell_type": "code",
   "execution_count": 31,
   "id": "f6afb6e0",
   "metadata": {},
   "outputs": [
    {
     "data": {
      "text/plain": [
       "[array([2523, 3113, 7114, ..., 4291, 4472, 3620]),\n",
       " array([4782,  663, 7155, ..., 5963,  495, 1767]),\n",
       " array([5462, 6574, 4896, ..., 3979, 7827,   37]),\n",
       " array([2848, 2629, 1591, ..., 7723, 1314, 1565]),\n",
       " array([3821, 6494, 1606, ..., 5686, 7870, 2558]),\n",
       " array([2261, 7922, 3649, ..., 4478, 6286, 6943]),\n",
       " array([ 652, 1676, 2291, ..., 2723, 7007, 6344]),\n",
       " array([2478, 4107, 1958, ..., 7979, 5695, 7854]),\n",
       " array([5800, 3548, 6540, ..., 3899,  831,   55]),\n",
       " array([5256, 7181, 3409, ..., 5286, 7535, 1335]),\n",
       " array([2675, 2834, 3817, ..., 1726, 2323, 7642]),\n",
       " array([3236, 7607, 4600, ...,  445, 7501, 6604]),\n",
       " array([4563, 4137, 6298, ..., 6611, 3023, 5529]),\n",
       " array([2816, 5343, 5817, ..., 3197, 2917, 5775]),\n",
       " array([2448, 2733, 5480, ...,  747, 5842,   69]),\n",
       " array([4248, 3828, 4630, ..., 1284, 2542, 3370]),\n",
       " array([4815, 1867,  503, ..., 4692, 7952, 4855]),\n",
       " array([1688, 4132, 5218, ..., 2491, 1876,  471]),\n",
       " array([4167, 2900, 3602, ..., 2974, 5705, 1466]),\n",
       " array([2920, 7645, 5452, ..., 7483, 1579, 2203]),\n",
       " array([6197, 7231,  152, ..., 5886, 7616,  394]),\n",
       " array([3276, 2364, 2494, ..., 5881, 3469, 1704]),\n",
       " array([4815, 2353, 7277, ..., 5948, 4758, 7374]),\n",
       " array([7960, 6076, 2040, ..., 2057, 3852, 1831]),\n",
       " array([2219, 7521, 7940, ..., 2756,  570, 6392]),\n",
       " array([5748, 4641, 5227, ..., 1278,  118, 6453]),\n",
       " array([2808,  664, 5968, ..., 6232, 2066, 1364]),\n",
       " array([6319, 7277, 5250, ...,  225,  840, 7636]),\n",
       " array([ 923, 7746, 7867, ..., 5181, 3027,  249]),\n",
       " array([3389, 3819, 2072, ..., 1759, 7088, 1249]),\n",
       " array([5594, 3699, 4460, ...,  408, 2346, 4199]),\n",
       " array([ 535, 5878,  205, ..., 5654, 4108, 3297]),\n",
       " array([2195, 3727, 3513, ...,  188, 4841,  894]),\n",
       " array([6916, 4325, 2320, ..., 4323, 6837, 6500]),\n",
       " array([6205, 7636, 4408, ..., 1073, 2311,  154]),\n",
       " array([4505, 7922, 2939, ..., 7509, 2334, 2542]),\n",
       " array([1464, 2932, 5902, ...,  109, 7150, 4820]),\n",
       " array([3945, 6823, 1849, ..., 7794,  417, 1090]),\n",
       " array([2664, 6408, 7769, ..., 3417, 1421, 1134]),\n",
       " array([7023, 2635, 7720, ..., 4881, 4537, 2903]),\n",
       " array([2907, 4393, 1214, ..., 5683, 6393, 3757]),\n",
       " array([ 327, 3655, 3889, ..., 7936, 7580, 6750]),\n",
       " array([7622, 4161, 3772, ..., 5042, 2687, 5166]),\n",
       " array([1170, 7843, 5689, ..., 2718, 5814, 1477]),\n",
       " array([5926, 3864,    7, ..., 2390, 4546, 4860]),\n",
       " array([6588, 6828, 2974, ..., 3273, 7450, 2062]),\n",
       " array([4430, 6604, 2913, ..., 3096, 7882, 1273]),\n",
       " array([5324, 1853, 6925, ...,  722, 7213, 7385]),\n",
       " array([6241, 2416, 3253, ..., 4650, 4025, 4686]),\n",
       " array([4922, 3735,  371, ..., 5406, 7156, 4315]),\n",
       " array([2854, 4623, 3436, ..., 2708, 3326,  953]),\n",
       " array([1222,   12, 6505, ..., 3862, 2874, 7745]),\n",
       " array([7825, 3711, 3559, ..., 2508, 2225, 6893]),\n",
       " array([4443, 7899,  612, ..., 4716, 7709, 7287]),\n",
       " array([ 339, 5168, 3346, ..., 7736, 4194, 7858]),\n",
       " array([3597, 3902, 2011, ..., 7897, 7043, 7607]),\n",
       " array([3788, 7541,  823, ..., 3200, 4322, 4579]),\n",
       " array([2392, 5649, 6815, ..., 1996, 1907, 6699]),\n",
       " array([2838, 2902, 4467, ..., 4696, 3156, 3241]),\n",
       " array([5185, 2864, 3414, ..., 4797, 5038, 3680]),\n",
       " array([4456, 3692, 7366, ..., 2042,  238, 4535]),\n",
       " array([5062, 3290, 4829, ..., 6102, 5631, 1511]),\n",
       " array([ 307, 7032, 5247, ..., 3489, 7962, 4092]),\n",
       " array([3971, 3386, 3847, ..., 5278, 6549, 7905]),\n",
       " array([4388, 6434, 5879, ..., 3920, 4769, 3803]),\n",
       " array([5039, 7190, 4577, ..., 1841, 5152, 3269]),\n",
       " array([3489, 4215,  971, ..., 5059, 6082, 5884]),\n",
       " array([1112, 2310, 1767, ..., 2409, 1768,  366]),\n",
       " array([4992, 3115, 4796, ..., 3433, 2809, 4891]),\n",
       " array([4879, 3195, 6085, ..., 6612,  384, 1985]),\n",
       " array([7398, 1007, 7093, ..., 3869, 6401, 3787]),\n",
       " array([7338, 3480, 7987, ..., 1066, 4667, 1005]),\n",
       " array([ 997, 1565, 1199, ..., 1077, 4138, 1809]),\n",
       " array([7056, 2746, 1665, ..., 3547,  623, 3021]),\n",
       " array([6288, 7431, 6427, ..., 5481, 7755,   69]),\n",
       " array([7466,  234, 2961, ..., 4202, 3745,   30]),\n",
       " array([5112,  884,  518, ...,  342,  287, 7934]),\n",
       " array([6061, 6434, 6843, ..., 5979, 3913, 3607]),\n",
       " array([5479, 1299,  222, ..., 7040,  402, 3951]),\n",
       " array([1407, 2124,  413, ..., 7246, 2413, 3709]),\n",
       " array([2766, 3879, 5552, ...,  357, 2294, 7996]),\n",
       " array([7064, 2811, 7938, ..., 1948,   28, 1534]),\n",
       " array([4182, 5301, 7533, ...,  774, 5287, 4856]),\n",
       " array([7357, 2481, 3233, ..., 2807, 4537, 3528]),\n",
       " array([7199,  868,  274, ..., 7390, 2837, 5363]),\n",
       " array([5614, 3999, 6124, ...,  729, 1259, 7622]),\n",
       " array([7989, 6724, 4241, ..., 3007, 6466, 2979]),\n",
       " array([6999, 4444, 5768, ...,  487, 7343, 1061]),\n",
       " array([1109, 6121, 4061, ..., 5191, 2666,  795]),\n",
       " array([4011, 5596, 4846, ..., 2682, 2656,  482]),\n",
       " array([5581, 1635, 5238, ..., 6771, 6719,  151]),\n",
       " array([7018, 4000, 1773, ..., 6328, 2814, 4194]),\n",
       " array([4214, 4037, 1028, ..., 2655, 6864, 5400]),\n",
       " array([1749, 3904, 2220, ..., 7026, 4285,  110]),\n",
       " array([7718, 6982, 6648, ..., 1832, 2292, 3997]),\n",
       " array([7211, 6025, 6527, ..., 4148, 7654, 2556]),\n",
       " array([6056, 7035, 5970, ...,  771, 2852, 3649]),\n",
       " array([2386, 7482, 5505, ..., 4363, 6722, 4868]),\n",
       " array([  94, 7651, 2459, ..., 4708, 4784, 4378]),\n",
       " array([1550, 3478, 1007, ..., 7182, 3095, 2338]),\n",
       " array([ 262, 6847,  883, ..., 4321, 5968, 3837]),\n",
       " array([ 249, 7086, 5044, ..., 3208, 3542, 7144]),\n",
       " array([2488, 2990, 7882, ..., 7334,  574,  184]),\n",
       " array([6045,  626, 5743, ..., 1860, 1163, 4593]),\n",
       " array([2997, 5990, 2499, ..., 7911, 1398, 4760]),\n",
       " array([1248, 3096, 1597, ...,  104, 6136, 4189]),\n",
       " array([4121, 6083, 5154, ..., 7688, 1277,  412]),\n",
       " array([3437, 3547, 7011, ..., 6417, 3883, 7641]),\n",
       " array([6930,  894, 6937, ..., 7039, 1723, 4325]),\n",
       " array([5764, 7324,  507, ..., 6643, 6387, 6315]),\n",
       " array([ 954, 3784, 3669, ..., 7232, 1792,  971]),\n",
       " array([7598,  167, 2997, ..., 5484, 1984, 2325]),\n",
       " array([7262, 5899, 3208, ..., 6454, 5817, 7306]),\n",
       " array([7606, 4229,  284, ..., 3285, 3065, 4610]),\n",
       " array([4346, 5228, 2281, ..., 1605, 5091, 6354]),\n",
       " array([1019, 5376, 2422, ..., 4981, 4387, 6761]),\n",
       " array([2783, 7574, 2948, ..., 6876, 2325, 7515]),\n",
       " array([7049, 2844, 7370, ..., 5580, 7314, 6701]),\n",
       " array([7778, 3062, 4654, ..., 1350, 3232, 5435]),\n",
       " array([5545,  793, 4820, ..., 5229, 3290, 6686]),\n",
       " array([7757, 2402, 1255, ..., 1077, 6526, 4288]),\n",
       " array([6814, 6242, 3613, ..., 2755, 6213, 7285]),\n",
       " array([ 834, 3276,   27, ..., 4935,  870,  822]),\n",
       " array([1320, 1986,  305, ..., 5722, 5372, 1420]),\n",
       " array([1647, 7291, 6546, ..., 7690, 2805, 5142]),\n",
       " array([3920, 1162, 2346, ..., 4188, 3193, 3951]),\n",
       " array([6048, 2001, 2883, ..., 5202, 7082, 3241]),\n",
       " array([4910, 5493, 6797, ..., 2717, 4906, 4713]),\n",
       " array([1386, 1029, 4646, ..., 4761, 1992, 5192]),\n",
       " array([4360, 1793, 2776, ..., 5270, 5253, 3926]),\n",
       " array([3602, 7904, 3694, ..., 4029, 2087, 5547]),\n",
       " array([7345, 2844, 7469, ..., 4278, 2465, 2094]),\n",
       " array([4957, 3033, 3926, ..., 6009,  341, 7705]),\n",
       " array([2189, 6472, 7086, ..., 3812, 7038, 7574]),\n",
       " array([6854,  681, 3089, ..., 7760, 1958, 7320]),\n",
       " array([1497, 4080, 6335, ..., 5056, 6361, 2985]),\n",
       " array([1624, 7011, 2745, ..., 4922, 7108, 4877]),\n",
       " array([5469, 1964, 2632, ..., 3928, 6636,  324]),\n",
       " array([ 321, 4808, 2501, ..., 7220, 5495, 5834]),\n",
       " array([5960, 4454, 4046, ..., 2118, 5655, 1524]),\n",
       " array([ 695, 7973, 6012, ..., 6611,  884, 6772]),\n",
       " array([1018, 3047,  391, ..., 2978,  875,  957]),\n",
       " array([4069,  901, 5370, ..., 3764, 3683, 3094]),\n",
       " array([3096, 5872, 1879, ..., 1247, 2972, 5616]),\n",
       " array([3284, 5414, 1101, ..., 6212, 2569, 5331]),\n",
       " array([1720, 1553, 6252, ..., 7157,  359, 6635]),\n",
       " array([1267, 3520, 7589, ..., 1016, 5754, 1132]),\n",
       " array([2774, 4305, 6938, ..., 5329, 3731, 4713]),\n",
       " array([ 214, 5268, 1108, ..., 2246, 7623, 6330]),\n",
       " array([5246, 7834,  408, ..., 4889, 5612, 5634]),\n",
       " array([2008,  654, 4825, ..., 6285, 3024, 1319]),\n",
       " array([2842, 5228,  498, ...,  720, 2642, 1668]),\n",
       " array([ 464, 4143, 7047, ..., 3885, 2773, 4878]),\n",
       " array([1660, 2210,  761, ..., 5340, 7179,  284]),\n",
       " array([6691, 5977, 1461, ..., 4861, 7437, 4011]),\n",
       " array([4924, 5085, 7093, ...,  877, 2690, 4518]),\n",
       " array([2361, 5277, 2273, ..., 1496, 2619, 4341]),\n",
       " array([6133, 3457, 5593, ..., 3683, 1078, 2408]),\n",
       " array([5955, 3501, 4906, ..., 5440, 5084, 4907]),\n",
       " array([3590, 4385, 2619, ..., 7119,  553,  606]),\n",
       " array([5705, 3200, 6595, ..., 4083, 5729, 5564]),\n",
       " array([4634, 6575, 3253, ..., 1112, 5254, 6284]),\n",
       " array([1831, 4214, 4344, ..., 4469,  269, 1478]),\n",
       " array([1959, 7321, 5905, ..., 2374, 1094, 6633]),\n",
       " array([3134, 4285, 6574, ..., 4571, 4491, 1758]),\n",
       " array([5428,  876,  138, ..., 2077, 2177, 5991]),\n",
       " array([4701, 5719, 5128, ..., 1884, 1013, 6383]),\n",
       " array([4729, 7757, 7896, ..., 1958, 4875, 2810]),\n",
       " array([1773, 6219, 2440, ..., 2891, 7357, 4221]),\n",
       " array([6254, 1723, 5539, ..., 4892, 3416, 3179]),\n",
       " array([6814, 2536, 2492, ..., 6350, 2016, 5435]),\n",
       " array([4227, 7908, 4022, ...,  146,  135, 6642]),\n",
       " array([7153, 5160, 2546, ..., 2806, 6147, 2497]),\n",
       " array([6637,   53, 1016, ..., 5674,  905, 6338]),\n",
       " array([4121, 1272, 7615, ..., 3030, 4806, 7104]),\n",
       " array([7953, 7661, 4824, ..., 1526, 4635, 5818]),\n",
       " array([4771, 4747, 7366, ..., 2998, 5653, 4604]),\n",
       " array([2962, 6742, 6352, ..., 5115, 3801, 6288]),\n",
       " array([6267,  557, 7585, ..., 6703, 7604,   53]),\n",
       " array([3014, 7342,  892, ..., 2141, 5878, 6533]),\n",
       " array([  79, 4620, 7927, ..., 2161, 7701, 6326]),\n",
       " array([2877, 3307, 5074, ..., 6959, 5250, 2528]),\n",
       " array([3696, 4688, 1202, ..., 6835, 7574, 1115]),\n",
       " array([4509, 5272, 3499, ..., 1070, 7887,  498]),\n",
       " array([2785, 4826, 3336, ..., 5146, 7298, 5321]),\n",
       " array([3562, 5101, 4787, ..., 3345, 3919, 2520]),\n",
       " array([6697, 6228, 2112, ..., 6014, 5673, 1510]),\n",
       " array([4493, 4452, 6121, ..., 5908, 1767, 5832]),\n",
       " array([6724, 1350, 7725, ..., 1748, 3947, 7488]),\n",
       " array([6229, 6682, 7919, ..., 2582, 3028,  204]),\n",
       " array([7855, 1433, 4616, ..., 3705,   21, 7707]),\n",
       " array([1582, 4662, 1313, ..., 5942, 7923, 3650]),\n",
       " array([3424, 1806, 5185, ..., 6452, 3572,  600]),\n",
       " array([ 476, 4761,  774, ..., 1728, 4349, 7433]),\n",
       " array([5207, 2270, 5314, ..., 3097, 4884,  578]),\n",
       " array([3309,  791, 5038, ..., 7835, 2509, 1665]),\n",
       " array([ 606, 7119, 1970, ..., 4189, 2859, 7652]),\n",
       " array([2355, 2309, 7064, ...,  614, 1939,  631]),\n",
       " array([2216, 6187, 7140, ...,  198, 4578, 1706]),\n",
       " array([3420, 3079, 7794, ..., 4513, 6250, 5376]),\n",
       " array([ 410, 2122, 1276, ..., 3259, 1672, 1013]),\n",
       " array([5955, 4460, 6687, ..., 7230, 4253, 1473]),\n",
       " array([5982,  458, 2509, ..., 3094, 4517, 5435]),\n",
       " array([4411, 4101, 3658, ..., 1989, 5330, 3498]),\n",
       " array([4816, 6258, 4451, ..., 1875, 1980, 5412]),\n",
       " array([1232, 2504, 1551, ..., 3102, 7163, 7328]),\n",
       " array([5609, 5787, 3354, ..., 6689,  384, 1934]),\n",
       " array([2309, 5558, 6234, ..., 7920, 7085,  300]),\n",
       " array([ 146,  263, 7250, ..., 3793, 7099, 2985]),\n",
       " array([4741, 2417, 7937, ..., 1998, 4649, 2367]),\n",
       " array([3916, 3207, 6232, ..., 2085, 2085, 6595]),\n",
       " array([4807, 7095,  279, ..., 7896, 2429, 6663]),\n",
       " array([7597, 2487, 4512, ..., 7387, 6650, 6123]),\n",
       " array([1971, 6354, 6599, ..., 2706, 4657, 3583]),\n",
       " array([3216, 4227, 7029, ..., 7941, 1420, 1392]),\n",
       " array([2503, 4862, 7341, ..., 4698, 1295, 4575]),\n",
       " array([6040, 7837, 1400, ...,  141, 7065, 2975]),\n",
       " array([ 376, 4168, 1708, ...,  640, 2834, 2686]),\n",
       " array([5705, 5713, 2634, ..., 4269, 5073, 5746]),\n",
       " array([ 884, 4736, 1018, ..., 1629, 1647, 6496]),\n",
       " array([ 226, 7798, 7491, ..., 2699, 7949, 2718]),\n",
       " array([3229, 4880, 3713, ..., 1629, 2757, 5714]),\n",
       " array([3564, 6238,  207, ..., 7005, 5274, 1864]),\n",
       " array([5036, 7182, 5432, ..., 4969, 6446, 7031]),\n",
       " array([4342, 4125, 6881, ..., 4610,  768, 2619]),\n",
       " array([3525, 5049, 1344, ..., 7809, 1328, 3409]),\n",
       " array([6589, 2933, 5683, ..., 3435, 2581, 6956]),\n",
       " array([2528,  451, 7102, ...,  952, 1159, 7033]),\n",
       " array([3833,  777, 1498, ..., 4443, 3824, 5719]),\n",
       " array([ 103, 2242, 2226, ...,   41, 2563, 4375]),\n",
       " array([5561, 3659, 5548, ...,  918,  137, 2177]),\n",
       " array([6658,  277,  916, ..., 3074, 6460, 3642]),\n",
       " array([3406, 1908, 4443, ..., 1388, 7336,  819]),\n",
       " array([7438, 5059, 6371, ..., 5125, 6478, 5221]),\n",
       " array([5640, 1972, 5440, ..., 1875, 4903, 4074]),\n",
       " array([7020,  644, 2061, ..., 1553, 4786,  335]),\n",
       " array([6556,   60, 7191, ...,  542,  700, 4011]),\n",
       " array([  33, 7837,  331, ..., 2918,  990,  194]),\n",
       " array([7066, 2218, 7488, ...,  929, 2143, 6874]),\n",
       " array([ 744, 4287, 2927, ..., 2128, 7894, 5199]),\n",
       " array([3429, 7341, 1686, ..., 2539, 7275, 1645]),\n",
       " array([7249, 4994, 6149, ...,   23, 5352, 4833]),\n",
       " array([6481, 1981, 3674, ..., 1617, 3231, 2272]),\n",
       " array([6747, 4485, 1925, ..., 7410, 6618, 2088]),\n",
       " array([ 711, 7933, 4177, ..., 4240, 4043, 4026]),\n",
       " array([5580, 4187,  337, ..., 3874, 7493, 5319]),\n",
       " array([ 477,  895, 4467, ..., 5481, 4168,  971]),\n",
       " array([5866, 4228, 6677, ..., 2565, 6048, 5105]),\n",
       " array([3208, 2127, 3758, ...,  446, 2800, 7903]),\n",
       " array([6069, 4820, 5283, ..., 4626, 1095, 5676]),\n",
       " array([ 146, 1807, 5407, ..., 4564, 5429, 3335]),\n",
       " array([6521,  198, 7838, ..., 6043, 4022, 5186]),\n",
       " array([1999, 6455, 1335, ..., 1894, 3630, 3223]),\n",
       " array([7985, 1433, 5590, ..., 5264, 1341, 3534]),\n",
       " array([3773, 5131, 2514, ..., 4671, 3333,  963]),\n",
       " array([4860,  517, 7235, ..., 5681, 1007, 1231]),\n",
       " array([4017, 1084, 2865, ..., 4909, 5232, 2145]),\n",
       " array([1198, 5632, 6928, ..., 5190, 4889, 6749]),\n",
       " array([4162, 2771, 1351, ..., 2995, 5183, 2495]),\n",
       " array([5698, 4815, 6193, ..., 4314, 6677, 5398]),\n",
       " array([4169, 7290, 6464, ..., 5278, 4299, 1767]),\n",
       " array([3900, 6961, 7617, ..., 1695, 5497,  832]),\n",
       " array([6946,  715, 1379, ..., 7210, 2288, 7137]),\n",
       " array([7478, 6339, 3084, ..., 2560, 3359, 7825]),\n",
       " array([3168, 2271, 5383, ..., 5353, 5227, 5016]),\n",
       " array([5985, 4947, 3682, ...,  976, 5415, 5310]),\n",
       " array([1254, 1440, 5082, ..., 3217, 7298, 6803]),\n",
       " array([4680, 2834, 4343, ...,  995, 4528, 3037]),\n",
       " array([3190, 6921, 1638, ..., 6862, 1096, 7827]),\n",
       " array([ 508, 4436, 4142, ..., 5258, 4592, 1199]),\n",
       " array([5482,  123, 4262, ..., 1906,   99, 1499]),\n",
       " array([ 479, 5746, 5526, ..., 2633, 2438, 6384]),\n",
       " array([6889,  677, 1498, ...,  333, 5083, 5025]),\n",
       " array([4157, 4462, 2677, ..., 5577, 6538, 6068]),\n",
       " array([6013, 2026, 1552, ..., 1479, 5723, 7098]),\n",
       " array([2432, 1586,  429, ..., 7744, 4287,   20]),\n",
       " array([4691, 1594, 5437, ..., 3514, 4875, 1795]),\n",
       " array([3690, 4227, 6862, ..., 5124, 6852, 5513]),\n",
       " array([2247, 3874, 1643, ..., 3822, 6659,   50]),\n",
       " array([5011, 1037, 6899, ...,  261,  249, 5476]),\n",
       " array([7026, 6123, 4529, ...,  959, 3516, 6468]),\n",
       " array([7382,  716, 6007, ..., 7614, 6715, 2086]),\n",
       " array([5754, 5289, 4707, ..., 7663,  667, 6230]),\n",
       " array([6045, 4691, 1179, ...,  749, 3788, 7264]),\n",
       " array([3322, 1804,  841, ..., 2693, 5739,   55]),\n",
       " array([5729, 1887, 3395, ...,  847, 4886, 3412]),\n",
       " array([ 920, 7609,  933, ..., 7208, 7978, 7736]),\n",
       " array([1633, 5570, 4892, ..., 3372, 5967, 2826]),\n",
       " array([5828, 4797,  594, ..., 3218, 5264, 3356]),\n",
       " array([7132, 3972, 6516, ..., 1386, 2697, 4858]),\n",
       " array([ 270, 7209, 4608, ..., 6016, 4709, 3649]),\n",
       " array([4774, 5774, 2332, ...,   78, 2961, 4786]),\n",
       " array([7648,  465, 4500, ..., 7934,  856,  533]),\n",
       " array([7240, 4986, 6532, ..., 6287, 1063, 4958]),\n",
       " array([3167, 7157, 1297, ..., 6572, 6362, 3672]),\n",
       " array([6020, 7900, 4750, ..., 6575, 3320, 7172]),\n",
       " array([6346, 2236, 7119, ..., 6457, 3853, 7740]),\n",
       " array([6887, 2708,  649, ..., 1019, 2640, 1302]),\n",
       " array([6379, 4767, 6396, ..., 5565,  816, 7930]),\n",
       " array([7065, 3316, 1949, ..., 6914, 4542, 6813]),\n",
       " array([5139, 6385, 2986, ..., 4518, 3263, 4570]),\n",
       " array([5780, 5659, 1392, ..., 1018, 6305, 3397]),\n",
       " array([4147,  935, 3923, ..., 2922, 4769,  361]),\n",
       " array([2446, 3600, 3610, ..., 4329,  807, 6925]),\n",
       " array([5370, 2551, 2131, ..., 2273, 6155, 6700]),\n",
       " array([1143, 6489,  648, ...,  743, 2114, 3197]),\n",
       " array([5803, 3313, 1058, ...,  988, 7483, 5537]),\n",
       " array([6921, 2375, 7181, ..., 2303, 3500, 3709]),\n",
       " array([4904, 4470,  590, ..., 7781,  815, 7905]),\n",
       " array([7466,  712,  726, ..., 2404, 7321, 5547]),\n",
       " array([6081, 2174, 4972, ..., 2166, 3946, 5456]),\n",
       " array([6970, 5019,  742, ..., 3629, 2900, 2877]),\n",
       " array([4318,  532, 1576, ..., 6784, 7655, 4430]),\n",
       " array([3435, 5423, 7381, ..., 6087,  124, 5247]),\n",
       " array([7949, 1891, 4291, ..., 4041, 1081,  443]),\n",
       " array([1720, 4728, 6729, ...,  633, 1443, 6001]),\n",
       " array([1622, 6126, 3619, ...,  216, 6774, 2783]),\n",
       " array([4598, 2138, 2263, ...,   24, 7782, 7870]),\n",
       " array([7177, 5491, 7914, ..., 2705, 1681, 4889]),\n",
       " array([4560, 1034, 1206, ..., 1022, 4093, 6929]),\n",
       " array([1097,  385,  822, ..., 2931, 4150,  790]),\n",
       " array([3865, 6792, 2956, ..., 1565, 1644, 4142]),\n",
       " array([5400, 5809, 6638, ..., 1359, 7683, 5595]),\n",
       " array([6378, 7135, 5270, ...,  603, 2460, 7879]),\n",
       " array([4862, 3425, 2314, ..., 2787, 7890, 3796]),\n",
       " array([3015, 3816, 1901, ..., 1304, 7857, 2311]),\n",
       " array([6222, 3950, 6832, ..., 1565, 3794, 2405]),\n",
       " array([1083, 6486,  848, ..., 5770, 1783, 5994]),\n",
       " array([ 898, 6437, 2897, ..., 2695, 6664,  482]),\n",
       " array([  90, 1755,  601, ..., 1648,  672,  895]),\n",
       " array([4556, 6952, 6894, ..., 1301, 5530, 5740]),\n",
       " array([2852, 4807, 7184, ..., 1043, 6266, 5177]),\n",
       " array([1828, 1564, 1288, ..., 4258, 2049, 1226]),\n",
       " array([4743, 7641, 7547, ..., 4533, 3870, 6521]),\n",
       " array([2851, 5049, 3825, ..., 5471, 3969,  874]),\n",
       " array([3384,  270, 5590, ..., 7811, 2351,  644]),\n",
       " array([6418, 6496, 1012, ..., 3464, 7813, 7387]),\n",
       " array([7716,  151, 5344, ..., 1361,  784, 6485]),\n",
       " array([1525, 6181, 2816, ...,  475, 3586, 7980]),\n",
       " array([2879, 1430, 6482, ...,  973, 3649, 5352]),\n",
       " array([2644, 1050, 5110, ..., 5156, 4915, 2478]),\n",
       " array([4322, 7648, 1906, ..., 6230, 4125, 5101]),\n",
       " array([4404, 5905,  847, ..., 1225, 3348,   87]),\n",
       " array([7314,  347, 5291, ..., 3013, 2044,  667]),\n",
       " array([ 220, 2715, 7978, ..., 4162, 3345, 3098]),\n",
       " array([6508,  464, 5612, ...,  852,  871, 5664]),\n",
       " array([6788, 4693, 1454, ..., 3563, 2921, 1052]),\n",
       " array([ 257, 5159,  893, ...,  874, 5239, 3751]),\n",
       " array([1977, 5381, 2282, ..., 1661,  914,  487]),\n",
       " array([4585, 1532, 1412, ..., 6289, 7224, 5722]),\n",
       " array([1570, 7438,   31, ..., 1888, 1890,  694]),\n",
       " array([6020, 4277, 6319, ..., 1453,  193, 6818]),\n",
       " array([3903, 6657, 4483, ..., 6347, 6921, 2504]),\n",
       " array([7534, 7886, 2923, ...,  973, 1616, 5211]),\n",
       " array([7799, 3121, 2793, ..., 7649, 3442, 4621]),\n",
       " array([6910,  971,   40, ..., 1184,  704, 3180]),\n",
       " array([7675, 6067, 3997, ..., 5083, 1609, 3314]),\n",
       " array([5606, 3580, 2995, ..., 3005, 7076, 6724]),\n",
       " array([3501,  654, 1261, ..., 4362, 3776, 2115]),\n",
       " array([4443, 4559, 4339, ..., 2426, 4104, 6752]),\n",
       " array([3888, 5735, 6300, ...,  563, 2583, 6236]),\n",
       " array([4707, 1970,  950, ..., 5081, 7088, 6874]),\n",
       " array([7715, 5487, 2619, ..., 2025,  929, 7443]),\n",
       " array([6301, 6892, 2433, ..., 4211, 2403, 2785]),\n",
       " array([6159, 2656,  881, ...,   87, 7693, 4267]),\n",
       " array([2758, 7683, 2079, ..., 4380, 6376, 1091]),\n",
       " array([ 327, 2267, 7363, ..., 4493, 1686, 5379]),\n",
       " array([ 375, 7225, 6425, ..., 3269,  433, 1413]),\n",
       " array([5909, 2744, 5101, ..., 2921, 2140, 4260]),\n",
       " array([2783, 4674, 3081, ..., 4355, 2274, 1801]),\n",
       " array([3977,  293, 1599, ..., 3284, 3694,  849]),\n",
       " array([5573, 7366, 6336, ...,  813, 2252, 4811]),\n",
       " array([4684, 6426, 2222, ..., 2002, 2719,  300]),\n",
       " array([5644, 2140, 4600, ..., 3111, 7952, 1580]),\n",
       " array([5905, 6887, 2612, ..., 3023, 6363, 3803]),\n",
       " array([2344, 2838, 2178, ..., 1983, 5295, 1665]),\n",
       " array([ 168, 5219, 4769, ..., 5000, 1990, 3411]),\n",
       " array([4135, 1143,  957, ..., 7446, 3166, 7067]),\n",
       " array([ 250, 1387, 2735, ..., 4246, 4040, 6239]),\n",
       " array([3047, 1501,  844, ..., 3425, 7506, 6655]),\n",
       " array([3781,  818, 6063, ...,  690, 4978, 3512]),\n",
       " array([5421,  211, 4441, ..., 7001, 3836, 7766]),\n",
       " array([7537, 7469, 3868, ..., 2489, 1241, 3219]),\n",
       " array([5177, 6157, 1348, ..., 2321, 4541, 5424]),\n",
       " array([ 178, 5556, 2334, ...,  241, 3987, 1725]),\n",
       " array([1500, 2690, 1938, ..., 5618, 1088, 6591]),\n",
       " array([ 980, 5844, 1974, ..., 6757, 4413, 5453]),\n",
       " array([ 589,   82, 1536, ..., 3222, 1428, 5174]),\n",
       " array([6556, 4076, 3339, ..., 5585, 5178, 6969]),\n",
       " array([  97, 2968, 6195, ..., 7345, 3863, 3929]),\n",
       " array([4133, 4935, 5458, ...,  768, 6625, 2485]),\n",
       " array([3552, 4803, 1370, ..., 4075, 4489,  179]),\n",
       " array([4205, 6613, 3756, ..., 7375, 5356, 3467]),\n",
       " array([2102, 3510, 5032, ..., 2452, 1514, 3567]),\n",
       " array([4990, 5801, 1254, ..., 4082, 6332, 6289]),\n",
       " array([7474, 4243, 3026, ..., 7933,  824, 4275]),\n",
       " array([3523, 7374, 4958, ..., 6453, 4648, 7272]),\n",
       " array([2689, 1913, 1803, ..., 1518, 5073, 7317]),\n",
       " array([4156, 1516, 4966, ..., 6574, 7702, 1147]),\n",
       " array([3104, 4117, 4101, ..., 6292, 5521, 4630]),\n",
       " array([5091, 6502, 6626, ..., 2658, 4048, 7740]),\n",
       " array([3642, 6234, 5033, ..., 5198, 6937, 2605]),\n",
       " array([  40, 6793,  389, ...,   98,  793, 1614]),\n",
       " array([4373, 1733, 2701, ..., 4062, 2134, 3868]),\n",
       " array([7347,  774, 7148, ..., 1331, 2816,   74]),\n",
       " array([1172, 7622, 3788, ..., 3785, 1242, 2987]),\n",
       " array([ 487,  215, 1056, ..., 3250, 1405, 6981]),\n",
       " array([5194, 5632, 4399, ...,  122, 6423, 4088]),\n",
       " array([7652, 3926, 6090, ..., 7640, 1189, 7423]),\n",
       " array([ 823, 2908, 6044, ..., 5665, 5188, 7242]),\n",
       " array([2095, 1655, 6834, ..., 1416, 7006, 2110]),\n",
       " array([7552, 6828, 1440, ..., 1852, 1609, 4618]),\n",
       " array([5370, 5367, 5073, ..., 5511, 5144,  600]),\n",
       " array([5960,  607, 7086, ..., 1555, 3473, 5708]),\n",
       " array([4497, 4866, 5466, ..., 7375, 2529, 2236]),\n",
       " array([7749, 7556, 4793, ..., 3323, 5587, 7560]),\n",
       " array([7559, 1674, 1860, ..., 7685,  373, 6264]),\n",
       " array([ 910, 3299,   16, ..., 6418, 1193, 7673]),\n",
       " array([ 412, 6160, 5686, ..., 1242, 4903, 6178]),\n",
       " array([6807, 2097,  619, ..., 1913, 7828, 7565]),\n",
       " array([7949, 1283, 1039, ..., 5561, 4532, 3256]),\n",
       " array([1118, 1939, 2189, ..., 3603, 1160, 7469]),\n",
       " array([4644, 5331, 5646, ..., 5263, 3441, 7227]),\n",
       " array([5911, 2553, 7387, ..., 2957, 7163, 3939]),\n",
       " array([7353,  984, 2074, ..., 6959, 1099, 7341]),\n",
       " array([5488, 7790, 2745, ..., 5585, 2786, 2968]),\n",
       " array([7516, 7423,  526, ..., 6270, 7655, 4654]),\n",
       " array([6825, 4592, 7619, ..., 2872, 3077, 2963]),\n",
       " array([7533, 4036,  360, ..., 1628, 7769,  435]),\n",
       " array([3942, 2993, 7586, ..., 1183, 3266, 4957]),\n",
       " array([  67, 6409, 1852, ..., 2633, 5311, 2621]),\n",
       " array([4305, 1162, 5416, ...,  561, 3368, 5264]),\n",
       " array([4992, 4159, 7027, ..., 2305, 3596, 2234]),\n",
       " array([6284, 3217, 2843, ..., 3449, 3676, 6525]),\n",
       " array([ 603, 5215, 7165, ..., 7316, 2404, 2680]),\n",
       " array([4440, 6558, 3982, ...,  752, 7975, 5414]),\n",
       " array([ 964, 5684, 4210, ..., 1125, 4131, 1886]),\n",
       " array([1716, 7330, 1484, ..., 1644, 1790, 6621]),\n",
       " array([2221, 1571, 5391, ..., 1906, 5717,   77]),\n",
       " array([4620, 1404, 3780, ..., 1261, 6252, 1020]),\n",
       " array([6094, 5808, 7876, ..., 7177, 1679,   69]),\n",
       " array([5667,  236, 3587, ..., 4008, 3958, 5354]),\n",
       " array([4896, 5318, 5220, ..., 2849, 3390, 4779]),\n",
       " array([ 668, 4436, 6846, ..., 7445, 2451, 1322]),\n",
       " array([ 891, 7528, 1818, ..., 6413, 3893, 1110]),\n",
       " array([ 970, 3848, 1408, ...,  704, 7635, 5284]),\n",
       " array([5484, 6967, 4350, ..., 6369, 7465, 3168]),\n",
       " array([7576, 6159, 6334, ..., 6276, 4253, 2006]),\n",
       " array([6494,  629, 3460, ..., 2075, 1445,  981]),\n",
       " array([2137, 1333,  730, ..., 1756, 3786, 6873]),\n",
       " array([2352, 5705, 2514, ..., 5960, 6387, 7413]),\n",
       " array([1442, 1744, 7440, ..., 3893, 4348, 1947]),\n",
       " array([7476, 6640, 3015, ..., 2175, 7852, 3644]),\n",
       " array([7729, 1290, 4662, ..., 4028, 1213,  312]),\n",
       " array([6708, 6777, 2526, ..., 3066, 7177, 5061]),\n",
       " array([2168, 2348, 2461, ..., 5199, 4492, 4313]),\n",
       " array([5706, 2105, 5726, ...,  954, 7820,  227]),\n",
       " array([3442, 5148, 2548, ..., 1294, 2393, 4436]),\n",
       " array([4000, 1417, 6501, ..., 5246, 2109, 2767]),\n",
       " array([3472, 3266,  687, ..., 3433, 7408, 5153]),\n",
       " array([ 105, 2634, 3359, ..., 6121, 3057, 3295]),\n",
       " array([3059, 1834, 3880, ..., 6842, 6298, 5534]),\n",
       " array([4645,  919, 3145, ..., 1398, 1021, 6607]),\n",
       " array([7830, 5971, 2248, ..., 1652, 7001, 2262]),\n",
       " array([4284, 2458, 5135, ..., 5496, 6260, 3056]),\n",
       " array([1056, 6314, 2537, ..., 5651, 6080, 4242]),\n",
       " array([7151,  937,  289, ..., 1135, 7886, 6584]),\n",
       " array([7289, 3936, 3474, ...,   45, 4439, 4673]),\n",
       " array([2035, 6108, 1454, ..., 5476, 6400, 4406]),\n",
       " array([3436, 4489, 7575, ..., 7805, 4237, 5996]),\n",
       " array([ 830, 4649, 6346, ..., 4544, 4680, 1952]),\n",
       " array([4975, 3879, 7535, ...,  220, 2620, 2553]),\n",
       " array([6316, 1557, 5365, ..., 3649, 4500, 6516]),\n",
       " array([ 250, 7909, 7578, ..., 5266, 4279, 4368]),\n",
       " array([2968, 6952, 2627, ..., 2147, 5550, 6678]),\n",
       " array([ 380, 5006, 6966, ..., 1093, 3069, 3067]),\n",
       " array([6702, 5928, 6156, ..., 4849, 1735, 5001]),\n",
       " array([1109, 6706,  470, ...,  589, 3535, 6931]),\n",
       " array([3726, 4903, 7768, ..., 1501, 7965, 7131]),\n",
       " array([7926, 2372, 7687, ..., 4247, 5806,  802]),\n",
       " array([7871, 4361, 2651, ..., 6202, 6332, 2279]),\n",
       " array([4374, 5958, 4372, ..., 2028, 4893, 1826]),\n",
       " array([6676, 6186, 5862, ..., 7412, 2059,  608]),\n",
       " array([2529, 7197, 6035, ...,  613, 4682, 2964]),\n",
       " array([7026, 1030, 5205, ..., 5178, 4092,  505]),\n",
       " array([ 944, 3058, 2387, ..., 7139,  443, 2524]),\n",
       " array([6502, 5195, 6047, ...,  746, 7763, 3183]),\n",
       " array([5194, 6065,  682, ..., 5635, 2190, 5169]),\n",
       " array([ 136, 6405, 5961, ..., 1195, 2896, 3315]),\n",
       " array([6383, 4680, 7637, ..., 3548, 6626, 1101]),\n",
       " array([5378, 1181, 3628, ..., 7231, 1608, 2782]),\n",
       " array([3627, 5833, 7968, ..., 5577, 1707, 7376]),\n",
       " array([ 900, 4805, 2984, ..., 6067, 6365, 6236]),\n",
       " array([6458, 5776, 6085, ..., 3798, 6660, 2571]),\n",
       " array([ 125, 6164,  221, ..., 2127, 7630, 5188]),\n",
       " array([6368, 6667, 3864, ...,  771, 3726, 6372]),\n",
       " array([6150, 4519, 2801, ..., 4990, 6143, 2240]),\n",
       " array([1372,  178, 3202, ..., 6814, 1341, 6456]),\n",
       " array([ 178, 5491, 3241, ..., 5296, 2343, 1135]),\n",
       " array([7236, 6425, 3224, ..., 2071, 2952, 2080])]"
      ]
     },
     "execution_count": 31,
     "metadata": {},
     "output_type": "execute_result"
    }
   ],
   "source": [
    "bagging_model.estimators_samples_  # list of every row index number that is given to our base models"
   ]
  },
  {
   "cell_type": "code",
   "execution_count": 32,
   "id": "2fb5d30a",
   "metadata": {},
   "outputs": [
    {
     "data": {
      "text/plain": [
       "array([2523, 3113, 7114, ..., 4291, 4472, 3620])"
      ]
     },
     "execution_count": 32,
     "metadata": {},
     "output_type": "execute_result"
    }
   ],
   "source": [
    "bagging_model.estimators_samples_ [0] # list of every row index number that is given to our 1st base models"
   ]
  },
  {
   "cell_type": "code",
   "execution_count": 33,
   "id": "f1bab25b",
   "metadata": {},
   "outputs": [
    {
     "data": {
      "text/plain": [
       "(2000,)"
      ]
     },
     "execution_count": 33,
     "metadata": {},
     "output_type": "execute_result"
    }
   ],
   "source": [
    "bagging_model.estimators_samples_ [0].shape # number of rows given to 1st base model"
   ]
  },
  {
   "cell_type": "code",
   "execution_count": 34,
   "id": "095ab3e6",
   "metadata": {},
   "outputs": [
    {
     "data": {
      "text/plain": [
       "(10,)"
      ]
     },
     "execution_count": 34,
     "metadata": {},
     "output_type": "execute_result"
    }
   ],
   "source": [
    "bagging_model.estimators_features_[0].shape # as we have not used column sample so our model got every column"
   ]
  },
  {
   "cell_type": "markdown",
   "id": "5bda084c",
   "metadata": {},
   "source": [
    "# Bagging using svm"
   ]
  },
  {
   "cell_type": "code",
   "execution_count": 35,
   "id": "bc207adb",
   "metadata": {},
   "outputs": [],
   "source": [
    "# evaluationg using bagging\n",
    "bagging_model1=BaggingClassifier(estimator=SVC(), # base model\n",
    "                               n_estimators=500,\n",
    "                               max_samples=0.25,# traning data is 8000 rows so we are giving 2000 rows to each base model\n",
    "                               bootstrap=True,  # row sampling with replacement \n",
    "                               random_state=42)"
   ]
  },
  {
   "cell_type": "code",
   "execution_count": 36,
   "id": "ada1b259",
   "metadata": {},
   "outputs": [
    {
     "data": {
      "text/html": [
       "<style>#sk-container-id-2 {color: black;background-color: white;}#sk-container-id-2 pre{padding: 0;}#sk-container-id-2 div.sk-toggleable {background-color: white;}#sk-container-id-2 label.sk-toggleable__label {cursor: pointer;display: block;width: 100%;margin-bottom: 0;padding: 0.3em;box-sizing: border-box;text-align: center;}#sk-container-id-2 label.sk-toggleable__label-arrow:before {content: \"▸\";float: left;margin-right: 0.25em;color: #696969;}#sk-container-id-2 label.sk-toggleable__label-arrow:hover:before {color: black;}#sk-container-id-2 div.sk-estimator:hover label.sk-toggleable__label-arrow:before {color: black;}#sk-container-id-2 div.sk-toggleable__content {max-height: 0;max-width: 0;overflow: hidden;text-align: left;background-color: #f0f8ff;}#sk-container-id-2 div.sk-toggleable__content pre {margin: 0.2em;color: black;border-radius: 0.25em;background-color: #f0f8ff;}#sk-container-id-2 input.sk-toggleable__control:checked~div.sk-toggleable__content {max-height: 200px;max-width: 100%;overflow: auto;}#sk-container-id-2 input.sk-toggleable__control:checked~label.sk-toggleable__label-arrow:before {content: \"▾\";}#sk-container-id-2 div.sk-estimator input.sk-toggleable__control:checked~label.sk-toggleable__label {background-color: #d4ebff;}#sk-container-id-2 div.sk-label input.sk-toggleable__control:checked~label.sk-toggleable__label {background-color: #d4ebff;}#sk-container-id-2 input.sk-hidden--visually {border: 0;clip: rect(1px 1px 1px 1px);clip: rect(1px, 1px, 1px, 1px);height: 1px;margin: -1px;overflow: hidden;padding: 0;position: absolute;width: 1px;}#sk-container-id-2 div.sk-estimator {font-family: monospace;background-color: #f0f8ff;border: 1px dotted black;border-radius: 0.25em;box-sizing: border-box;margin-bottom: 0.5em;}#sk-container-id-2 div.sk-estimator:hover {background-color: #d4ebff;}#sk-container-id-2 div.sk-parallel-item::after {content: \"\";width: 100%;border-bottom: 1px solid gray;flex-grow: 1;}#sk-container-id-2 div.sk-label:hover label.sk-toggleable__label {background-color: #d4ebff;}#sk-container-id-2 div.sk-serial::before {content: \"\";position: absolute;border-left: 1px solid gray;box-sizing: border-box;top: 0;bottom: 0;left: 50%;z-index: 0;}#sk-container-id-2 div.sk-serial {display: flex;flex-direction: column;align-items: center;background-color: white;padding-right: 0.2em;padding-left: 0.2em;position: relative;}#sk-container-id-2 div.sk-item {position: relative;z-index: 1;}#sk-container-id-2 div.sk-parallel {display: flex;align-items: stretch;justify-content: center;background-color: white;position: relative;}#sk-container-id-2 div.sk-item::before, #sk-container-id-2 div.sk-parallel-item::before {content: \"\";position: absolute;border-left: 1px solid gray;box-sizing: border-box;top: 0;bottom: 0;left: 50%;z-index: -1;}#sk-container-id-2 div.sk-parallel-item {display: flex;flex-direction: column;z-index: 1;position: relative;background-color: white;}#sk-container-id-2 div.sk-parallel-item:first-child::after {align-self: flex-end;width: 50%;}#sk-container-id-2 div.sk-parallel-item:last-child::after {align-self: flex-start;width: 50%;}#sk-container-id-2 div.sk-parallel-item:only-child::after {width: 0;}#sk-container-id-2 div.sk-dashed-wrapped {border: 1px dashed gray;margin: 0 0.4em 0.5em 0.4em;box-sizing: border-box;padding-bottom: 0.4em;background-color: white;}#sk-container-id-2 div.sk-label label {font-family: monospace;font-weight: bold;display: inline-block;line-height: 1.2em;}#sk-container-id-2 div.sk-label-container {text-align: center;}#sk-container-id-2 div.sk-container {/* jupyter's `normalize.less` sets `[hidden] { display: none; }` but bootstrap.min.css set `[hidden] { display: none !important; }` so we also need the `!important` here to be able to override the default hidden behavior on the sphinx rendered scikit-learn.org. See: https://github.com/scikit-learn/scikit-learn/issues/21755 */display: inline-block !important;position: relative;}#sk-container-id-2 div.sk-text-repr-fallback {display: none;}</style><div id=\"sk-container-id-2\" class=\"sk-top-container\"><div class=\"sk-text-repr-fallback\"><pre>BaggingClassifier(estimator=SVC(), max_samples=0.25, n_estimators=500,\n",
       "                  random_state=42)</pre><b>In a Jupyter environment, please rerun this cell to show the HTML representation or trust the notebook. <br />On GitHub, the HTML representation is unable to render, please try loading this page with nbviewer.org.</b></div><div class=\"sk-container\" hidden><div class=\"sk-item sk-dashed-wrapped\"><div class=\"sk-label-container\"><div class=\"sk-label sk-toggleable\"><input class=\"sk-toggleable__control sk-hidden--visually\" id=\"sk-estimator-id-4\" type=\"checkbox\" ><label for=\"sk-estimator-id-4\" class=\"sk-toggleable__label sk-toggleable__label-arrow\">BaggingClassifier</label><div class=\"sk-toggleable__content\"><pre>BaggingClassifier(estimator=SVC(), max_samples=0.25, n_estimators=500,\n",
       "                  random_state=42)</pre></div></div></div><div class=\"sk-parallel\"><div class=\"sk-parallel-item\"><div class=\"sk-item\"><div class=\"sk-label-container\"><div class=\"sk-label sk-toggleable\"><input class=\"sk-toggleable__control sk-hidden--visually\" id=\"sk-estimator-id-5\" type=\"checkbox\" ><label for=\"sk-estimator-id-5\" class=\"sk-toggleable__label sk-toggleable__label-arrow\">estimator: SVC</label><div class=\"sk-toggleable__content\"><pre>SVC()</pre></div></div></div><div class=\"sk-serial\"><div class=\"sk-item\"><div class=\"sk-estimator sk-toggleable\"><input class=\"sk-toggleable__control sk-hidden--visually\" id=\"sk-estimator-id-6\" type=\"checkbox\" ><label for=\"sk-estimator-id-6\" class=\"sk-toggleable__label sk-toggleable__label-arrow\">SVC</label><div class=\"sk-toggleable__content\"><pre>SVC()</pre></div></div></div></div></div></div></div></div></div></div>"
      ],
      "text/plain": [
       "BaggingClassifier(estimator=SVC(), max_samples=0.25, n_estimators=500,\n",
       "                  random_state=42)"
      ]
     },
     "execution_count": 36,
     "metadata": {},
     "output_type": "execute_result"
    }
   ],
   "source": [
    "bagging_model1.fit(x_train,y_train)"
   ]
  },
  {
   "cell_type": "code",
   "execution_count": 37,
   "id": "bb8a8ee9",
   "metadata": {},
   "outputs": [],
   "source": [
    "y_pred=bagging_model1.predict(x_test)"
   ]
  },
  {
   "cell_type": "code",
   "execution_count": 38,
   "id": "21b62f9a",
   "metadata": {},
   "outputs": [
    {
     "name": "stdout",
     "output_type": "stream",
     "text": [
      "bagging using svm 92.30000000000001 %\n"
     ]
    }
   ],
   "source": [
    "print(\"bagging using svm\",accuracy_score(y_test,y_pred)*100,\"%\")"
   ]
  },
  {
   "cell_type": "markdown",
   "id": "58a37888",
   "metadata": {},
   "source": [
    "# using pasting : sampling rows without replacement "
   ]
  },
  {
   "cell_type": "code",
   "execution_count": 39,
   "id": "15945da4",
   "metadata": {},
   "outputs": [],
   "source": [
    "# evaluationg using pasting\n",
    "bagging_model2=BaggingClassifier(estimator=DecisionTreeClassifier(), # base model\n",
    "                               n_estimators=500,\n",
    "                               max_samples=0.25,# traning data is 8000 rows so we are giving 2000 rows to each base model\n",
    "                               bootstrap=True,  # row sampling with replacement \n",
    "                               random_state=42,\n",
    "                               verbose=True,  # info during traning will be shown\n",
    "                               n_jobs=-1)     # computational speed gets fast (jitne bhi processor hai unmai devide ho jayega kam)"
   ]
  },
  {
   "cell_type": "code",
   "execution_count": 40,
   "id": "308f39a9",
   "metadata": {},
   "outputs": [
    {
     "name": "stderr",
     "output_type": "stream",
     "text": [
      "[Parallel(n_jobs=8)]: Using backend LokyBackend with 8 concurrent workers.\n",
      "[Parallel(n_jobs=8)]: Done   2 out of   8 | elapsed:    1.9s remaining:    5.6s\n",
      "[Parallel(n_jobs=8)]: Done   8 out of   8 | elapsed:    2.0s finished\n"
     ]
    },
    {
     "data": {
      "text/html": [
       "<style>#sk-container-id-3 {color: black;background-color: white;}#sk-container-id-3 pre{padding: 0;}#sk-container-id-3 div.sk-toggleable {background-color: white;}#sk-container-id-3 label.sk-toggleable__label {cursor: pointer;display: block;width: 100%;margin-bottom: 0;padding: 0.3em;box-sizing: border-box;text-align: center;}#sk-container-id-3 label.sk-toggleable__label-arrow:before {content: \"▸\";float: left;margin-right: 0.25em;color: #696969;}#sk-container-id-3 label.sk-toggleable__label-arrow:hover:before {color: black;}#sk-container-id-3 div.sk-estimator:hover label.sk-toggleable__label-arrow:before {color: black;}#sk-container-id-3 div.sk-toggleable__content {max-height: 0;max-width: 0;overflow: hidden;text-align: left;background-color: #f0f8ff;}#sk-container-id-3 div.sk-toggleable__content pre {margin: 0.2em;color: black;border-radius: 0.25em;background-color: #f0f8ff;}#sk-container-id-3 input.sk-toggleable__control:checked~div.sk-toggleable__content {max-height: 200px;max-width: 100%;overflow: auto;}#sk-container-id-3 input.sk-toggleable__control:checked~label.sk-toggleable__label-arrow:before {content: \"▾\";}#sk-container-id-3 div.sk-estimator input.sk-toggleable__control:checked~label.sk-toggleable__label {background-color: #d4ebff;}#sk-container-id-3 div.sk-label input.sk-toggleable__control:checked~label.sk-toggleable__label {background-color: #d4ebff;}#sk-container-id-3 input.sk-hidden--visually {border: 0;clip: rect(1px 1px 1px 1px);clip: rect(1px, 1px, 1px, 1px);height: 1px;margin: -1px;overflow: hidden;padding: 0;position: absolute;width: 1px;}#sk-container-id-3 div.sk-estimator {font-family: monospace;background-color: #f0f8ff;border: 1px dotted black;border-radius: 0.25em;box-sizing: border-box;margin-bottom: 0.5em;}#sk-container-id-3 div.sk-estimator:hover {background-color: #d4ebff;}#sk-container-id-3 div.sk-parallel-item::after {content: \"\";width: 100%;border-bottom: 1px solid gray;flex-grow: 1;}#sk-container-id-3 div.sk-label:hover label.sk-toggleable__label {background-color: #d4ebff;}#sk-container-id-3 div.sk-serial::before {content: \"\";position: absolute;border-left: 1px solid gray;box-sizing: border-box;top: 0;bottom: 0;left: 50%;z-index: 0;}#sk-container-id-3 div.sk-serial {display: flex;flex-direction: column;align-items: center;background-color: white;padding-right: 0.2em;padding-left: 0.2em;position: relative;}#sk-container-id-3 div.sk-item {position: relative;z-index: 1;}#sk-container-id-3 div.sk-parallel {display: flex;align-items: stretch;justify-content: center;background-color: white;position: relative;}#sk-container-id-3 div.sk-item::before, #sk-container-id-3 div.sk-parallel-item::before {content: \"\";position: absolute;border-left: 1px solid gray;box-sizing: border-box;top: 0;bottom: 0;left: 50%;z-index: -1;}#sk-container-id-3 div.sk-parallel-item {display: flex;flex-direction: column;z-index: 1;position: relative;background-color: white;}#sk-container-id-3 div.sk-parallel-item:first-child::after {align-self: flex-end;width: 50%;}#sk-container-id-3 div.sk-parallel-item:last-child::after {align-self: flex-start;width: 50%;}#sk-container-id-3 div.sk-parallel-item:only-child::after {width: 0;}#sk-container-id-3 div.sk-dashed-wrapped {border: 1px dashed gray;margin: 0 0.4em 0.5em 0.4em;box-sizing: border-box;padding-bottom: 0.4em;background-color: white;}#sk-container-id-3 div.sk-label label {font-family: monospace;font-weight: bold;display: inline-block;line-height: 1.2em;}#sk-container-id-3 div.sk-label-container {text-align: center;}#sk-container-id-3 div.sk-container {/* jupyter's `normalize.less` sets `[hidden] { display: none; }` but bootstrap.min.css set `[hidden] { display: none !important; }` so we also need the `!important` here to be able to override the default hidden behavior on the sphinx rendered scikit-learn.org. See: https://github.com/scikit-learn/scikit-learn/issues/21755 */display: inline-block !important;position: relative;}#sk-container-id-3 div.sk-text-repr-fallback {display: none;}</style><div id=\"sk-container-id-3\" class=\"sk-top-container\"><div class=\"sk-text-repr-fallback\"><pre>BaggingClassifier(estimator=DecisionTreeClassifier(), max_samples=0.25,\n",
       "                  n_estimators=500, n_jobs=-1, random_state=42, verbose=True)</pre><b>In a Jupyter environment, please rerun this cell to show the HTML representation or trust the notebook. <br />On GitHub, the HTML representation is unable to render, please try loading this page with nbviewer.org.</b></div><div class=\"sk-container\" hidden><div class=\"sk-item sk-dashed-wrapped\"><div class=\"sk-label-container\"><div class=\"sk-label sk-toggleable\"><input class=\"sk-toggleable__control sk-hidden--visually\" id=\"sk-estimator-id-7\" type=\"checkbox\" ><label for=\"sk-estimator-id-7\" class=\"sk-toggleable__label sk-toggleable__label-arrow\">BaggingClassifier</label><div class=\"sk-toggleable__content\"><pre>BaggingClassifier(estimator=DecisionTreeClassifier(), max_samples=0.25,\n",
       "                  n_estimators=500, n_jobs=-1, random_state=42, verbose=True)</pre></div></div></div><div class=\"sk-parallel\"><div class=\"sk-parallel-item\"><div class=\"sk-item\"><div class=\"sk-label-container\"><div class=\"sk-label sk-toggleable\"><input class=\"sk-toggleable__control sk-hidden--visually\" id=\"sk-estimator-id-8\" type=\"checkbox\" ><label for=\"sk-estimator-id-8\" class=\"sk-toggleable__label sk-toggleable__label-arrow\">estimator: DecisionTreeClassifier</label><div class=\"sk-toggleable__content\"><pre>DecisionTreeClassifier()</pre></div></div></div><div class=\"sk-serial\"><div class=\"sk-item\"><div class=\"sk-estimator sk-toggleable\"><input class=\"sk-toggleable__control sk-hidden--visually\" id=\"sk-estimator-id-9\" type=\"checkbox\" ><label for=\"sk-estimator-id-9\" class=\"sk-toggleable__label sk-toggleable__label-arrow\">DecisionTreeClassifier</label><div class=\"sk-toggleable__content\"><pre>DecisionTreeClassifier()</pre></div></div></div></div></div></div></div></div></div></div>"
      ],
      "text/plain": [
       "BaggingClassifier(estimator=DecisionTreeClassifier(), max_samples=0.25,\n",
       "                  n_estimators=500, n_jobs=-1, random_state=42, verbose=True)"
      ]
     },
     "execution_count": 40,
     "metadata": {},
     "output_type": "execute_result"
    }
   ],
   "source": [
    "bagging_model2.fit(x_train,y_train)"
   ]
  },
  {
   "cell_type": "code",
   "execution_count": 41,
   "id": "6df603be",
   "metadata": {},
   "outputs": [
    {
     "name": "stderr",
     "output_type": "stream",
     "text": [
      "[Parallel(n_jobs=8)]: Using backend LokyBackend with 8 concurrent workers.\n",
      "[Parallel(n_jobs=8)]: Done   2 out of   8 | elapsed:    0.0s remaining:    0.1s\n",
      "[Parallel(n_jobs=8)]: Done   8 out of   8 | elapsed:    0.1s finished\n"
     ]
    }
   ],
   "source": [
    "y_pred=bagging_model2.predict(x_test)"
   ]
  },
  {
   "cell_type": "code",
   "execution_count": 42,
   "id": "54902def",
   "metadata": {},
   "outputs": [
    {
     "name": "stdout",
     "output_type": "stream",
     "text": [
      "accuracy with pasitng(row sampling without replacement) 94.75 %\n"
     ]
    }
   ],
   "source": [
    "print(\"accuracy with pasitng(row sampling without replacement)\",accuracy_score(y_test,y_pred)*100,\"%\")"
   ]
  },
  {
   "cell_type": "markdown",
   "id": "982f9011",
   "metadata": {},
   "source": [
    "# random subspaces: sampling of column "
   ]
  },
  {
   "cell_type": "code",
   "execution_count": 43,
   "id": "3bc2b0c7",
   "metadata": {},
   "outputs": [],
   "source": [
    "# evaluationg using random subspaces\n",
    "bagging_model3=BaggingClassifier(estimator=DecisionTreeClassifier(), # base model\n",
    "                               n_estimators=500,\n",
    "                               max_samples=1.0,# traning data with every rows (8000) given to each base model as we are using random subspaces\n",
    "                               bootstrap=False,  # row sampling without replacement \n",
    "                               random_state=42,\n",
    "                               max_features=0.5, # using 5 columns out of 10 \n",
    "                               bootstrap_features=True) #column sampling with replacement"
   ]
  },
  {
   "cell_type": "code",
   "execution_count": 44,
   "id": "01e3fa47",
   "metadata": {},
   "outputs": [
    {
     "data": {
      "text/html": [
       "<style>#sk-container-id-4 {color: black;background-color: white;}#sk-container-id-4 pre{padding: 0;}#sk-container-id-4 div.sk-toggleable {background-color: white;}#sk-container-id-4 label.sk-toggleable__label {cursor: pointer;display: block;width: 100%;margin-bottom: 0;padding: 0.3em;box-sizing: border-box;text-align: center;}#sk-container-id-4 label.sk-toggleable__label-arrow:before {content: \"▸\";float: left;margin-right: 0.25em;color: #696969;}#sk-container-id-4 label.sk-toggleable__label-arrow:hover:before {color: black;}#sk-container-id-4 div.sk-estimator:hover label.sk-toggleable__label-arrow:before {color: black;}#sk-container-id-4 div.sk-toggleable__content {max-height: 0;max-width: 0;overflow: hidden;text-align: left;background-color: #f0f8ff;}#sk-container-id-4 div.sk-toggleable__content pre {margin: 0.2em;color: black;border-radius: 0.25em;background-color: #f0f8ff;}#sk-container-id-4 input.sk-toggleable__control:checked~div.sk-toggleable__content {max-height: 200px;max-width: 100%;overflow: auto;}#sk-container-id-4 input.sk-toggleable__control:checked~label.sk-toggleable__label-arrow:before {content: \"▾\";}#sk-container-id-4 div.sk-estimator input.sk-toggleable__control:checked~label.sk-toggleable__label {background-color: #d4ebff;}#sk-container-id-4 div.sk-label input.sk-toggleable__control:checked~label.sk-toggleable__label {background-color: #d4ebff;}#sk-container-id-4 input.sk-hidden--visually {border: 0;clip: rect(1px 1px 1px 1px);clip: rect(1px, 1px, 1px, 1px);height: 1px;margin: -1px;overflow: hidden;padding: 0;position: absolute;width: 1px;}#sk-container-id-4 div.sk-estimator {font-family: monospace;background-color: #f0f8ff;border: 1px dotted black;border-radius: 0.25em;box-sizing: border-box;margin-bottom: 0.5em;}#sk-container-id-4 div.sk-estimator:hover {background-color: #d4ebff;}#sk-container-id-4 div.sk-parallel-item::after {content: \"\";width: 100%;border-bottom: 1px solid gray;flex-grow: 1;}#sk-container-id-4 div.sk-label:hover label.sk-toggleable__label {background-color: #d4ebff;}#sk-container-id-4 div.sk-serial::before {content: \"\";position: absolute;border-left: 1px solid gray;box-sizing: border-box;top: 0;bottom: 0;left: 50%;z-index: 0;}#sk-container-id-4 div.sk-serial {display: flex;flex-direction: column;align-items: center;background-color: white;padding-right: 0.2em;padding-left: 0.2em;position: relative;}#sk-container-id-4 div.sk-item {position: relative;z-index: 1;}#sk-container-id-4 div.sk-parallel {display: flex;align-items: stretch;justify-content: center;background-color: white;position: relative;}#sk-container-id-4 div.sk-item::before, #sk-container-id-4 div.sk-parallel-item::before {content: \"\";position: absolute;border-left: 1px solid gray;box-sizing: border-box;top: 0;bottom: 0;left: 50%;z-index: -1;}#sk-container-id-4 div.sk-parallel-item {display: flex;flex-direction: column;z-index: 1;position: relative;background-color: white;}#sk-container-id-4 div.sk-parallel-item:first-child::after {align-self: flex-end;width: 50%;}#sk-container-id-4 div.sk-parallel-item:last-child::after {align-self: flex-start;width: 50%;}#sk-container-id-4 div.sk-parallel-item:only-child::after {width: 0;}#sk-container-id-4 div.sk-dashed-wrapped {border: 1px dashed gray;margin: 0 0.4em 0.5em 0.4em;box-sizing: border-box;padding-bottom: 0.4em;background-color: white;}#sk-container-id-4 div.sk-label label {font-family: monospace;font-weight: bold;display: inline-block;line-height: 1.2em;}#sk-container-id-4 div.sk-label-container {text-align: center;}#sk-container-id-4 div.sk-container {/* jupyter's `normalize.less` sets `[hidden] { display: none; }` but bootstrap.min.css set `[hidden] { display: none !important; }` so we also need the `!important` here to be able to override the default hidden behavior on the sphinx rendered scikit-learn.org. See: https://github.com/scikit-learn/scikit-learn/issues/21755 */display: inline-block !important;position: relative;}#sk-container-id-4 div.sk-text-repr-fallback {display: none;}</style><div id=\"sk-container-id-4\" class=\"sk-top-container\"><div class=\"sk-text-repr-fallback\"><pre>BaggingClassifier(bootstrap=False, bootstrap_features=True,\n",
       "                  estimator=DecisionTreeClassifier(), max_features=0.5,\n",
       "                  n_estimators=500, random_state=42)</pre><b>In a Jupyter environment, please rerun this cell to show the HTML representation or trust the notebook. <br />On GitHub, the HTML representation is unable to render, please try loading this page with nbviewer.org.</b></div><div class=\"sk-container\" hidden><div class=\"sk-item sk-dashed-wrapped\"><div class=\"sk-label-container\"><div class=\"sk-label sk-toggleable\"><input class=\"sk-toggleable__control sk-hidden--visually\" id=\"sk-estimator-id-10\" type=\"checkbox\" ><label for=\"sk-estimator-id-10\" class=\"sk-toggleable__label sk-toggleable__label-arrow\">BaggingClassifier</label><div class=\"sk-toggleable__content\"><pre>BaggingClassifier(bootstrap=False, bootstrap_features=True,\n",
       "                  estimator=DecisionTreeClassifier(), max_features=0.5,\n",
       "                  n_estimators=500, random_state=42)</pre></div></div></div><div class=\"sk-parallel\"><div class=\"sk-parallel-item\"><div class=\"sk-item\"><div class=\"sk-label-container\"><div class=\"sk-label sk-toggleable\"><input class=\"sk-toggleable__control sk-hidden--visually\" id=\"sk-estimator-id-11\" type=\"checkbox\" ><label for=\"sk-estimator-id-11\" class=\"sk-toggleable__label sk-toggleable__label-arrow\">estimator: DecisionTreeClassifier</label><div class=\"sk-toggleable__content\"><pre>DecisionTreeClassifier()</pre></div></div></div><div class=\"sk-serial\"><div class=\"sk-item\"><div class=\"sk-estimator sk-toggleable\"><input class=\"sk-toggleable__control sk-hidden--visually\" id=\"sk-estimator-id-12\" type=\"checkbox\" ><label for=\"sk-estimator-id-12\" class=\"sk-toggleable__label sk-toggleable__label-arrow\">DecisionTreeClassifier</label><div class=\"sk-toggleable__content\"><pre>DecisionTreeClassifier()</pre></div></div></div></div></div></div></div></div></div></div>"
      ],
      "text/plain": [
       "BaggingClassifier(bootstrap=False, bootstrap_features=True,\n",
       "                  estimator=DecisionTreeClassifier(), max_features=0.5,\n",
       "                  n_estimators=500, random_state=42)"
      ]
     },
     "execution_count": 44,
     "metadata": {},
     "output_type": "execute_result"
    }
   ],
   "source": [
    "bagging_model3.fit(x_train,y_train)"
   ]
  },
  {
   "cell_type": "code",
   "execution_count": 45,
   "id": "d61f5e32",
   "metadata": {},
   "outputs": [],
   "source": [
    "y_pred=bagging_model3.predict(x_test)"
   ]
  },
  {
   "cell_type": "code",
   "execution_count": 46,
   "id": "cd612845",
   "metadata": {},
   "outputs": [
    {
     "name": "stdout",
     "output_type": "stream",
     "text": [
      "accuracy score with column sampling with replacement: 93.85 %\n"
     ]
    }
   ],
   "source": [
    "print(\"accuracy score with column sampling with replacement:\",accuracy_score(y_test,y_pred)*100,\"%\")"
   ]
  },
  {
   "cell_type": "code",
   "execution_count": 47,
   "id": "731fb7be",
   "metadata": {},
   "outputs": [
    {
     "data": {
      "text/plain": [
       "(5,)"
      ]
     },
     "execution_count": 47,
     "metadata": {},
     "output_type": "execute_result"
    }
   ],
   "source": [
    "bagging_model3.estimators_features_[0].shape # as we used only 5 columns to give to our base model"
   ]
  },
  {
   "cell_type": "code",
   "execution_count": 48,
   "id": "256de6ea",
   "metadata": {},
   "outputs": [
    {
     "data": {
      "text/plain": [
       "(8000,)"
      ]
     },
     "execution_count": 48,
     "metadata": {},
     "output_type": "execute_result"
    }
   ],
   "source": [
    "bagging_model3.estimators_samples_[0].shape  # we used every row"
   ]
  },
  {
   "cell_type": "code",
   "execution_count": 49,
   "id": "065c9d33",
   "metadata": {},
   "outputs": [],
   "source": [
    "# with replacement means (data can be repeated)\n",
    "# without replacement means (data can't be repeated)"
   ]
  },
  {
   "cell_type": "markdown",
   "id": "a75b0ce0",
   "metadata": {},
   "source": [
    "# random patches : using both rows and column sampling"
   ]
  },
  {
   "cell_type": "code",
   "execution_count": 50,
   "id": "6e17f3c4",
   "metadata": {},
   "outputs": [],
   "source": [
    "# evaluationg using random patches\n",
    "bagging_model4=BaggingClassifier(estimator=DecisionTreeClassifier(), # base model\n",
    "                               n_estimators=500,\n",
    "                               max_samples=0.25,# using 2000 rows\n",
    "                               bootstrap=True,  # row sampling with replacement \n",
    "                               random_state=42,\n",
    "                               max_features=0.5, # using 5 columns out of 10 \n",
    "                               bootstrap_features=True) # using column with replacement"
   ]
  },
  {
   "cell_type": "code",
   "execution_count": 51,
   "id": "4508c4e3",
   "metadata": {},
   "outputs": [
    {
     "data": {
      "text/html": [
       "<style>#sk-container-id-5 {color: black;background-color: white;}#sk-container-id-5 pre{padding: 0;}#sk-container-id-5 div.sk-toggleable {background-color: white;}#sk-container-id-5 label.sk-toggleable__label {cursor: pointer;display: block;width: 100%;margin-bottom: 0;padding: 0.3em;box-sizing: border-box;text-align: center;}#sk-container-id-5 label.sk-toggleable__label-arrow:before {content: \"▸\";float: left;margin-right: 0.25em;color: #696969;}#sk-container-id-5 label.sk-toggleable__label-arrow:hover:before {color: black;}#sk-container-id-5 div.sk-estimator:hover label.sk-toggleable__label-arrow:before {color: black;}#sk-container-id-5 div.sk-toggleable__content {max-height: 0;max-width: 0;overflow: hidden;text-align: left;background-color: #f0f8ff;}#sk-container-id-5 div.sk-toggleable__content pre {margin: 0.2em;color: black;border-radius: 0.25em;background-color: #f0f8ff;}#sk-container-id-5 input.sk-toggleable__control:checked~div.sk-toggleable__content {max-height: 200px;max-width: 100%;overflow: auto;}#sk-container-id-5 input.sk-toggleable__control:checked~label.sk-toggleable__label-arrow:before {content: \"▾\";}#sk-container-id-5 div.sk-estimator input.sk-toggleable__control:checked~label.sk-toggleable__label {background-color: #d4ebff;}#sk-container-id-5 div.sk-label input.sk-toggleable__control:checked~label.sk-toggleable__label {background-color: #d4ebff;}#sk-container-id-5 input.sk-hidden--visually {border: 0;clip: rect(1px 1px 1px 1px);clip: rect(1px, 1px, 1px, 1px);height: 1px;margin: -1px;overflow: hidden;padding: 0;position: absolute;width: 1px;}#sk-container-id-5 div.sk-estimator {font-family: monospace;background-color: #f0f8ff;border: 1px dotted black;border-radius: 0.25em;box-sizing: border-box;margin-bottom: 0.5em;}#sk-container-id-5 div.sk-estimator:hover {background-color: #d4ebff;}#sk-container-id-5 div.sk-parallel-item::after {content: \"\";width: 100%;border-bottom: 1px solid gray;flex-grow: 1;}#sk-container-id-5 div.sk-label:hover label.sk-toggleable__label {background-color: #d4ebff;}#sk-container-id-5 div.sk-serial::before {content: \"\";position: absolute;border-left: 1px solid gray;box-sizing: border-box;top: 0;bottom: 0;left: 50%;z-index: 0;}#sk-container-id-5 div.sk-serial {display: flex;flex-direction: column;align-items: center;background-color: white;padding-right: 0.2em;padding-left: 0.2em;position: relative;}#sk-container-id-5 div.sk-item {position: relative;z-index: 1;}#sk-container-id-5 div.sk-parallel {display: flex;align-items: stretch;justify-content: center;background-color: white;position: relative;}#sk-container-id-5 div.sk-item::before, #sk-container-id-5 div.sk-parallel-item::before {content: \"\";position: absolute;border-left: 1px solid gray;box-sizing: border-box;top: 0;bottom: 0;left: 50%;z-index: -1;}#sk-container-id-5 div.sk-parallel-item {display: flex;flex-direction: column;z-index: 1;position: relative;background-color: white;}#sk-container-id-5 div.sk-parallel-item:first-child::after {align-self: flex-end;width: 50%;}#sk-container-id-5 div.sk-parallel-item:last-child::after {align-self: flex-start;width: 50%;}#sk-container-id-5 div.sk-parallel-item:only-child::after {width: 0;}#sk-container-id-5 div.sk-dashed-wrapped {border: 1px dashed gray;margin: 0 0.4em 0.5em 0.4em;box-sizing: border-box;padding-bottom: 0.4em;background-color: white;}#sk-container-id-5 div.sk-label label {font-family: monospace;font-weight: bold;display: inline-block;line-height: 1.2em;}#sk-container-id-5 div.sk-label-container {text-align: center;}#sk-container-id-5 div.sk-container {/* jupyter's `normalize.less` sets `[hidden] { display: none; }` but bootstrap.min.css set `[hidden] { display: none !important; }` so we also need the `!important` here to be able to override the default hidden behavior on the sphinx rendered scikit-learn.org. See: https://github.com/scikit-learn/scikit-learn/issues/21755 */display: inline-block !important;position: relative;}#sk-container-id-5 div.sk-text-repr-fallback {display: none;}</style><div id=\"sk-container-id-5\" class=\"sk-top-container\"><div class=\"sk-text-repr-fallback\"><pre>BaggingClassifier(bootstrap_features=True, estimator=DecisionTreeClassifier(),\n",
       "                  max_features=0.5, max_samples=0.25, n_estimators=500,\n",
       "                  random_state=42)</pre><b>In a Jupyter environment, please rerun this cell to show the HTML representation or trust the notebook. <br />On GitHub, the HTML representation is unable to render, please try loading this page with nbviewer.org.</b></div><div class=\"sk-container\" hidden><div class=\"sk-item sk-dashed-wrapped\"><div class=\"sk-label-container\"><div class=\"sk-label sk-toggleable\"><input class=\"sk-toggleable__control sk-hidden--visually\" id=\"sk-estimator-id-13\" type=\"checkbox\" ><label for=\"sk-estimator-id-13\" class=\"sk-toggleable__label sk-toggleable__label-arrow\">BaggingClassifier</label><div class=\"sk-toggleable__content\"><pre>BaggingClassifier(bootstrap_features=True, estimator=DecisionTreeClassifier(),\n",
       "                  max_features=0.5, max_samples=0.25, n_estimators=500,\n",
       "                  random_state=42)</pre></div></div></div><div class=\"sk-parallel\"><div class=\"sk-parallel-item\"><div class=\"sk-item\"><div class=\"sk-label-container\"><div class=\"sk-label sk-toggleable\"><input class=\"sk-toggleable__control sk-hidden--visually\" id=\"sk-estimator-id-14\" type=\"checkbox\" ><label for=\"sk-estimator-id-14\" class=\"sk-toggleable__label sk-toggleable__label-arrow\">estimator: DecisionTreeClassifier</label><div class=\"sk-toggleable__content\"><pre>DecisionTreeClassifier()</pre></div></div></div><div class=\"sk-serial\"><div class=\"sk-item\"><div class=\"sk-estimator sk-toggleable\"><input class=\"sk-toggleable__control sk-hidden--visually\" id=\"sk-estimator-id-15\" type=\"checkbox\" ><label for=\"sk-estimator-id-15\" class=\"sk-toggleable__label sk-toggleable__label-arrow\">DecisionTreeClassifier</label><div class=\"sk-toggleable__content\"><pre>DecisionTreeClassifier()</pre></div></div></div></div></div></div></div></div></div></div>"
      ],
      "text/plain": [
       "BaggingClassifier(bootstrap_features=True, estimator=DecisionTreeClassifier(),\n",
       "                  max_features=0.5, max_samples=0.25, n_estimators=500,\n",
       "                  random_state=42)"
      ]
     },
     "execution_count": 51,
     "metadata": {},
     "output_type": "execute_result"
    }
   ],
   "source": [
    "bagging_model4.fit(x_train,y_train)"
   ]
  },
  {
   "cell_type": "code",
   "execution_count": 52,
   "id": "e7d40b88",
   "metadata": {},
   "outputs": [],
   "source": [
    "y_pred=bagging_model4.predict(x_test)"
   ]
  },
  {
   "cell_type": "code",
   "execution_count": 53,
   "id": "b3f0c402",
   "metadata": {},
   "outputs": [
    {
     "name": "stdout",
     "output_type": "stream",
     "text": [
      "accuracy score using random patches: 93.0 %\n"
     ]
    }
   ],
   "source": [
    "print(\"accuracy score using random patches:\",accuracy_score(y_test,y_pred)*100,\"%\")"
   ]
  },
  {
   "cell_type": "markdown",
   "id": "59e742f9",
   "metadata": {},
   "source": [
    "# OOB Score: 37% of data is unseen by our base model which are called out of box data"
   ]
  },
  {
   "cell_type": "code",
   "execution_count": 54,
   "id": "d6181987",
   "metadata": {},
   "outputs": [],
   "source": [
    "bagging_model5=BaggingClassifier(estimator=DecisionTreeClassifier(), # base model\n",
    "                               n_estimators=500,\n",
    "                               max_samples=0.25,# using 2000 rows\n",
    "                               bootstrap=True,  # row sampling with replacement \n",
    "                               random_state=42,\n",
    "                               oob_score=True) "
   ]
  },
  {
   "cell_type": "code",
   "execution_count": 56,
   "id": "1d6ef0a1",
   "metadata": {},
   "outputs": [
    {
     "name": "stdout",
     "output_type": "stream",
     "text": [
      "94.75 %\n"
     ]
    }
   ],
   "source": [
    "bagging_model5.fit(x_train,y_train)\n",
    "y_pred=bagging_model5.predict(x_test)\n",
    "print(accuracy_score(y_test,y_pred)*100,\"%\")"
   ]
  },
  {
   "cell_type": "code",
   "execution_count": 62,
   "id": "4cd31e64",
   "metadata": {},
   "outputs": [
    {
     "name": "stdout",
     "output_type": "stream",
     "text": [
      "94.1125 %\n"
     ]
    }
   ],
   "source": [
    "print(bagging_model5.oob_score_*100,\"%\") # using this unseen data to evalute the model"
   ]
  },
  {
   "cell_type": "markdown",
   "id": "aa03cbbf",
   "metadata": {},
   "source": [
    "# Bagging tips"
   ]
  },
  {
   "cell_type": "code",
   "execution_count": 64,
   "id": "218bbe40",
   "metadata": {},
   "outputs": [],
   "source": [
    "# 1.bagging generally gives better results than pasting\n",
    "# 2.good results come around 25% to 50 % in row sampling\n",
    "# 3.random patches and random subspaces are generally used when we have high dimension data \n",
    "# 4.to find correct hyperparameter we can use GridSearchCv or RandomSearchCv "
   ]
  },
  {
   "cell_type": "markdown",
   "id": "4e19ba15",
   "metadata": {},
   "source": [
    "# Applying grid search cv"
   ]
  },
  {
   "cell_type": "code",
   "execution_count": 65,
   "id": "cbb2fffd",
   "metadata": {},
   "outputs": [],
   "source": [
    "from sklearn.model_selection import GridSearchCV"
   ]
  },
  {
   "cell_type": "code",
   "execution_count": 69,
   "id": "ea17e0e1",
   "metadata": {},
   "outputs": [],
   "source": [
    "parameters={\n",
    "    \"n_estimators\":[50,100,500],\n",
    "    \"max_samples\":[0.1,0.4,0.7,1.0],\n",
    "    \"bootstrap\":[True,False],\n",
    "    \"max_features\":[0.1,0.4,0.7,1.0],\n",
    "    \"n_jobs\":[-1]\n",
    "}"
   ]
  },
  {
   "cell_type": "code",
   "execution_count": 70,
   "id": "72cbda7c",
   "metadata": {},
   "outputs": [],
   "source": [
    "search=GridSearchCV(BaggingClassifier(),parameters,cv=5)"
   ]
  },
  {
   "cell_type": "code",
   "execution_count": 71,
   "id": "cad3861c",
   "metadata": {},
   "outputs": [
    {
     "data": {
      "text/html": [
       "<style>#sk-container-id-6 {color: black;background-color: white;}#sk-container-id-6 pre{padding: 0;}#sk-container-id-6 div.sk-toggleable {background-color: white;}#sk-container-id-6 label.sk-toggleable__label {cursor: pointer;display: block;width: 100%;margin-bottom: 0;padding: 0.3em;box-sizing: border-box;text-align: center;}#sk-container-id-6 label.sk-toggleable__label-arrow:before {content: \"▸\";float: left;margin-right: 0.25em;color: #696969;}#sk-container-id-6 label.sk-toggleable__label-arrow:hover:before {color: black;}#sk-container-id-6 div.sk-estimator:hover label.sk-toggleable__label-arrow:before {color: black;}#sk-container-id-6 div.sk-toggleable__content {max-height: 0;max-width: 0;overflow: hidden;text-align: left;background-color: #f0f8ff;}#sk-container-id-6 div.sk-toggleable__content pre {margin: 0.2em;color: black;border-radius: 0.25em;background-color: #f0f8ff;}#sk-container-id-6 input.sk-toggleable__control:checked~div.sk-toggleable__content {max-height: 200px;max-width: 100%;overflow: auto;}#sk-container-id-6 input.sk-toggleable__control:checked~label.sk-toggleable__label-arrow:before {content: \"▾\";}#sk-container-id-6 div.sk-estimator input.sk-toggleable__control:checked~label.sk-toggleable__label {background-color: #d4ebff;}#sk-container-id-6 div.sk-label input.sk-toggleable__control:checked~label.sk-toggleable__label {background-color: #d4ebff;}#sk-container-id-6 input.sk-hidden--visually {border: 0;clip: rect(1px 1px 1px 1px);clip: rect(1px, 1px, 1px, 1px);height: 1px;margin: -1px;overflow: hidden;padding: 0;position: absolute;width: 1px;}#sk-container-id-6 div.sk-estimator {font-family: monospace;background-color: #f0f8ff;border: 1px dotted black;border-radius: 0.25em;box-sizing: border-box;margin-bottom: 0.5em;}#sk-container-id-6 div.sk-estimator:hover {background-color: #d4ebff;}#sk-container-id-6 div.sk-parallel-item::after {content: \"\";width: 100%;border-bottom: 1px solid gray;flex-grow: 1;}#sk-container-id-6 div.sk-label:hover label.sk-toggleable__label {background-color: #d4ebff;}#sk-container-id-6 div.sk-serial::before {content: \"\";position: absolute;border-left: 1px solid gray;box-sizing: border-box;top: 0;bottom: 0;left: 50%;z-index: 0;}#sk-container-id-6 div.sk-serial {display: flex;flex-direction: column;align-items: center;background-color: white;padding-right: 0.2em;padding-left: 0.2em;position: relative;}#sk-container-id-6 div.sk-item {position: relative;z-index: 1;}#sk-container-id-6 div.sk-parallel {display: flex;align-items: stretch;justify-content: center;background-color: white;position: relative;}#sk-container-id-6 div.sk-item::before, #sk-container-id-6 div.sk-parallel-item::before {content: \"\";position: absolute;border-left: 1px solid gray;box-sizing: border-box;top: 0;bottom: 0;left: 50%;z-index: -1;}#sk-container-id-6 div.sk-parallel-item {display: flex;flex-direction: column;z-index: 1;position: relative;background-color: white;}#sk-container-id-6 div.sk-parallel-item:first-child::after {align-self: flex-end;width: 50%;}#sk-container-id-6 div.sk-parallel-item:last-child::after {align-self: flex-start;width: 50%;}#sk-container-id-6 div.sk-parallel-item:only-child::after {width: 0;}#sk-container-id-6 div.sk-dashed-wrapped {border: 1px dashed gray;margin: 0 0.4em 0.5em 0.4em;box-sizing: border-box;padding-bottom: 0.4em;background-color: white;}#sk-container-id-6 div.sk-label label {font-family: monospace;font-weight: bold;display: inline-block;line-height: 1.2em;}#sk-container-id-6 div.sk-label-container {text-align: center;}#sk-container-id-6 div.sk-container {/* jupyter's `normalize.less` sets `[hidden] { display: none; }` but bootstrap.min.css set `[hidden] { display: none !important; }` so we also need the `!important` here to be able to override the default hidden behavior on the sphinx rendered scikit-learn.org. See: https://github.com/scikit-learn/scikit-learn/issues/21755 */display: inline-block !important;position: relative;}#sk-container-id-6 div.sk-text-repr-fallback {display: none;}</style><div id=\"sk-container-id-6\" class=\"sk-top-container\"><div class=\"sk-text-repr-fallback\"><pre>GridSearchCV(cv=5, estimator=BaggingClassifier(),\n",
       "             param_grid={&#x27;bootstrap&#x27;: [True, False],\n",
       "                         &#x27;max_features&#x27;: [0.1, 0.4, 0.7, 1.0],\n",
       "                         &#x27;max_samples&#x27;: [0.1, 0.4, 0.7, 1.0],\n",
       "                         &#x27;n_estimators&#x27;: [50, 100, 500], &#x27;n_jobs&#x27;: [-1]})</pre><b>In a Jupyter environment, please rerun this cell to show the HTML representation or trust the notebook. <br />On GitHub, the HTML representation is unable to render, please try loading this page with nbviewer.org.</b></div><div class=\"sk-container\" hidden><div class=\"sk-item sk-dashed-wrapped\"><div class=\"sk-label-container\"><div class=\"sk-label sk-toggleable\"><input class=\"sk-toggleable__control sk-hidden--visually\" id=\"sk-estimator-id-16\" type=\"checkbox\" ><label for=\"sk-estimator-id-16\" class=\"sk-toggleable__label sk-toggleable__label-arrow\">GridSearchCV</label><div class=\"sk-toggleable__content\"><pre>GridSearchCV(cv=5, estimator=BaggingClassifier(),\n",
       "             param_grid={&#x27;bootstrap&#x27;: [True, False],\n",
       "                         &#x27;max_features&#x27;: [0.1, 0.4, 0.7, 1.0],\n",
       "                         &#x27;max_samples&#x27;: [0.1, 0.4, 0.7, 1.0],\n",
       "                         &#x27;n_estimators&#x27;: [50, 100, 500], &#x27;n_jobs&#x27;: [-1]})</pre></div></div></div><div class=\"sk-parallel\"><div class=\"sk-parallel-item\"><div class=\"sk-item\"><div class=\"sk-label-container\"><div class=\"sk-label sk-toggleable\"><input class=\"sk-toggleable__control sk-hidden--visually\" id=\"sk-estimator-id-17\" type=\"checkbox\" ><label for=\"sk-estimator-id-17\" class=\"sk-toggleable__label sk-toggleable__label-arrow\">estimator: BaggingClassifier</label><div class=\"sk-toggleable__content\"><pre>BaggingClassifier()</pre></div></div></div><div class=\"sk-serial\"><div class=\"sk-item\"><div class=\"sk-estimator sk-toggleable\"><input class=\"sk-toggleable__control sk-hidden--visually\" id=\"sk-estimator-id-18\" type=\"checkbox\" ><label for=\"sk-estimator-id-18\" class=\"sk-toggleable__label sk-toggleable__label-arrow\">BaggingClassifier</label><div class=\"sk-toggleable__content\"><pre>BaggingClassifier()</pre></div></div></div></div></div></div></div></div></div></div>"
      ],
      "text/plain": [
       "GridSearchCV(cv=5, estimator=BaggingClassifier(),\n",
       "             param_grid={'bootstrap': [True, False],\n",
       "                         'max_features': [0.1, 0.4, 0.7, 1.0],\n",
       "                         'max_samples': [0.1, 0.4, 0.7, 1.0],\n",
       "                         'n_estimators': [50, 100, 500], 'n_jobs': [-1]})"
      ]
     },
     "execution_count": 71,
     "metadata": {},
     "output_type": "execute_result"
    }
   ],
   "source": [
    "search.fit(x_train,y_train)"
   ]
  },
  {
   "cell_type": "code",
   "execution_count": 72,
   "id": "d96848f6",
   "metadata": {},
   "outputs": [
    {
     "data": {
      "text/plain": [
       "0.946625"
      ]
     },
     "execution_count": 72,
     "metadata": {},
     "output_type": "execute_result"
    }
   ],
   "source": [
    "search.best_score_"
   ]
  },
  {
   "cell_type": "code",
   "execution_count": 73,
   "id": "86ea8bde",
   "metadata": {},
   "outputs": [
    {
     "data": {
      "text/plain": [
       "{'bootstrap': True,\n",
       " 'max_features': 0.7,\n",
       " 'max_samples': 1.0,\n",
       " 'n_estimators': 500,\n",
       " 'n_jobs': -1}"
      ]
     },
     "execution_count": 73,
     "metadata": {},
     "output_type": "execute_result"
    }
   ],
   "source": [
    "search.best_params_  # these are the best values of parameter we should use to get the accuracy of 94.6625"
   ]
  },
  {
   "cell_type": "code",
   "execution_count": null,
   "id": "5a5b2330",
   "metadata": {},
   "outputs": [],
   "source": []
  }
 ],
 "metadata": {
  "kernelspec": {
   "display_name": "Python 3 (ipykernel)",
   "language": "python",
   "name": "python3"
  },
  "language_info": {
   "codemirror_mode": {
    "name": "ipython",
    "version": 3
   },
   "file_extension": ".py",
   "mimetype": "text/x-python",
   "name": "python",
   "nbconvert_exporter": "python",
   "pygments_lexer": "ipython3",
   "version": "3.10.9"
  }
 },
 "nbformat": 4,
 "nbformat_minor": 5
}
